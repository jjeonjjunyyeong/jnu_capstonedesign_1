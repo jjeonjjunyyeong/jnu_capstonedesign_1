{
 "cells": [
  {
   "cell_type": "code",
   "execution_count": 1,
   "metadata": {},
   "outputs": [],
   "source": [
    "from selenium import webdriver\n",
    "from selenium.webdriver.common.keys import Keys\n",
    "from selenium.webdriver.chrome.service import Service\n",
    "from webdriver_manager.chrome import ChromeDriverManager\n",
    "from selenium.webdriver.common.by import By\n",
    "from selenium.webdriver import ActionChains\n",
    "import pandas as pd\n",
    "import time\n",
    "import numpy as np\n"
   ]
  },
  {
   "cell_type": "code",
   "execution_count": 2,
   "metadata": {},
   "outputs": [],
   "source": [
    "driver = webdriver.Chrome()\n",
    "\n",
    "driver.get(\n",
    "    \"https://www.agoda.com/ko-kr/search?city=14690&site_id=1891442&tag=782b98b0-e95a-0318-464c-9df2f46883a7&nhakw=1&gad=1&device=c&network=g&adid=577294658636&rand=10811873334794923270&expid=&adpos=&aud=aud-951004860236%3Akwd-321247717620&gclid=Cj0KCQjw-pyqBhDmARIsAKd9XINVq9Dyz2VhSt_UehLOyXgVAz8np5YIvOBgizfG7qqCnMH8aFm7VMQaAhz6EALw_wcB&checkIn=2023-11-15&checkOut=2023-11-16&adults=1&rooms=1&pslc=1&ds=cJadpOCWpF1Ik%2FR3\"\n",
    ")"
   ]
  },
  {
   "cell_type": "code",
   "execution_count": 3,
   "metadata": {},
   "outputs": [],
   "source": [
    "search_box = driver.find_element(\n",
    "    By.XPATH, \"//*[@id='autocomplete-box']/div/div/div/div[1]\"\n",
    ")\n",
    "\n",
    "search_box.click()\n",
    "time.sleep(2)\n",
    "search = driver.find_element(By.XPATH, '//*[@id=\"textInput\"]')\n",
    "search.clear()\n",
    "search.send_keys(\"오사카\")\n",
    "time.sleep(1)\n",
    "\n",
    "# test\n",
    "driver.find_element(By.CSS_SELECTOR, '#check-in-box').click()\n",
    "time.sleep(1)\n",
    "driver.find_element(By.CSS_SELECTOR, '[aria-label=\"Fri Dec 01 2023\"]').click()\n",
    "time.sleep(2)\n",
    "driver.find_element(By.CSS_SELECTOR, '[aria-label=\"Thu Dec 07 2023\"]').click()\n",
    "time.sleep(2)\n",
    "\n",
    "# # 인원입력칸 클릭\n",
    "# driver.find_element(By.XPATH, '//*[@id=\"occupancy-box\"]/div').click()\n",
    "# time.sleep(1)\n",
    "# driver.find_element(By.XPATH, '//*[@id=\"occupancy-selector\"]/div/div/div[2]/div[2]/div[3]').click()\n",
    "# time.sleep(1)\n",
    "# # 성인 증가\n",
    "# for i in range(3):\n",
    "#     driver.find_element(By.XPATH, '//*[@id=\"occupancy-selector\"]/div/div/div[2]/div[2]/div[3]').click()\n",
    "#     time.sleep(2)\n",
    "\n",
    "# # 아동 증가\n",
    "# for i in range(2):\n",
    "#     driver.find_element(By.XPATH,'//*[@id=\"occupancy-selector\"]/div/div/div[3]/div[2]/div[3]').click()\n",
    "#     time.sleep(4)\n",
    "\n",
    "driver.find_element(By.XPATH, '//*[@id=\"SearchBoxContainer\"]/div/div/button').click()\n",
    "time.sleep(5)\n"
   ]
  },
  {
   "cell_type": "code",
   "execution_count": 4,
   "metadata": {},
   "outputs": [],
   "source": [
    "max_try = 3\n",
    "\n",
    "for _ in range(max_try):\n",
    "    element_to_scroll_to = driver.find_element(\n",
    "        By.XPATH,\n",
    "        \"/html\",\n",
    "    )\n",
    "    element_to_scroll_to.send_keys(Keys.PAGE_DOWN)\n",
    "    element_to_scroll_to.send_keys(Keys.PAGE_DOWN)\n",
    "    element_to_scroll_to.send_keys(Keys.PAGE_DOWN)\n",
    "    time.sleep(1)\n",
    "\n",
    "\n",
    "name = driver.find_elements(By.CSS_SELECTOR, \"h3.sc-jrAGrp.sc-kEjbxe.eDlaBj.dscgss\")\n",
    "review = driver.find_elements(By.CSS_SELECTOR, \"p.Typographystyled__TypographyStyled-sc-j18mtu-0.Hkrzy.kite-js-Typography\")\n",
    "elements_with_class = driver.find_elements(By.CLASS_NAME, \"sc-jrAGrp.sc-kEjbxe.eDlaBj.fRhhIV.sc-dQppl.cQZIoF\")\n",
    "\n",
    "position = []\n",
    "\n",
    "for element in elements_with_class:\n",
    "    aria_label = element.get_attribute(\"label\")\n",
    "    if aria_label:\n",
    "        position.append(aria_label)\n"
   ]
  },
  {
   "cell_type": "code",
   "execution_count": 5,
   "metadata": {},
   "outputs": [],
   "source": [
    "name_lst = []\n",
    "for i in range(int(len(name))):\n",
    "    name_lst.append(name[i].text)\n",
    "\n",
    "review_lst = []\n",
    "for i in range(int(len(review))):\n",
    "    review_lst.append(review[i].text)"
   ]
  },
  {
   "cell_type": "code",
   "execution_count": 6,
   "metadata": {},
   "outputs": [
    {
     "data": {
      "text/plain": [
       "'검색 결과 순위는 수수료 수익의 영향을 받습니다. 검색 결과 순위에 대해 자세히 보기.'"
      ]
     },
     "execution_count": 6,
     "metadata": {},
     "output_type": "execute_result"
    }
   ],
   "source": [
    "review_lst.pop(0)\n"
   ]
  },
  {
   "cell_type": "code",
   "execution_count": 7,
   "metadata": {},
   "outputs": [],
   "source": [
    "data = {\"숙소\": name_lst, \"평점\": review_lst, \"위치\": position}\n",
    "df = pd.DataFrame(data)\n",
    "df.to_csv(\"오사카 숙소.csv\", index=False, encoding=\"utf-8-sig\")"
   ]
  }
 ],
 "metadata": {
  "kernelspec": {
   "display_name": "tmp",
   "language": "python",
   "name": "python3"
  },
  "language_info": {
   "codemirror_mode": {
    "name": "ipython",
    "version": 3
   },
   "file_extension": ".py",
   "mimetype": "text/x-python",
   "name": "python",
   "nbconvert_exporter": "python",
   "pygments_lexer": "ipython3",
   "version": "3.11.5"
  }
 },
 "nbformat": 4,
 "nbformat_minor": 2
}
