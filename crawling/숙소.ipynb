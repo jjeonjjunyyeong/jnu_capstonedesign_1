{
 "cells": [
  {
   "cell_type": "code",
   "execution_count": 23,
   "metadata": {},
   "outputs": [],
   "source": [
    "from selenium import webdriver\n",
    "from selenium.webdriver.common.keys import Keys\n",
    "from selenium.webdriver.chrome.service import Service\n",
    "from webdriver_manager.chrome import ChromeDriverManager\n",
    "from selenium.webdriver.common.by import By\n",
    "from selenium.webdriver import ActionChains\n",
    "import pandas as pd\n",
    "import time\n",
    "import numpy as np\n"
   ]
  },
  {
   "cell_type": "code",
   "execution_count": 24,
   "metadata": {},
   "outputs": [],
   "source": [
    "driver = webdriver.Chrome()\n",
    "\n",
    "chrome_options = webdriver.ChromeOptions()\n",
    "\n",
    "# 브라우저 꺼짐 방지 옵션\n",
    "chrome_options.add_experimental_option(\"detach\", True)\n",
    "driver = webdriver.Chrome(\n",
    "    service=Service(ChromeDriverManager().install()), options=chrome_options\n",
    ")\n",
    "driver.get(\n",
    "    \"https://www.agoda.com/ko-kr/search?city=14690&site_id=1891442&tag=782b98b0-e95a-0318-464c-9df2f46883a7&nhakw=1&gad=1&device=c&network=g&adid=577294658636&rand=10811873334794923270&expid=&adpos=&aud=aud-951004860236%3Akwd-321247717620&gclid=Cj0KCQjw-pyqBhDmARIsAKd9XINVq9Dyz2VhSt_UehLOyXgVAz8np5YIvOBgizfG7qqCnMH8aFm7VMQaAhz6EALw_wcB&checkIn=2023-11-15&checkOut=2023-11-16&adults=1&rooms=1&pslc=1&ds=cJadpOCWpF1Ik%2FR3\"\n",
    ")\n",
    "\n",
    "search_box = driver.find_element(\n",
    "    By.XPATH, \"//*[@id='autocomplete-box']/div/div/div/div[1]\"\n",
    ")\n",
    "search_box.click()\n",
    "time.sleep(2)\n",
    "search = driver.find_element(By.XPATH, '//*[@id=\"textInput\"]')\n",
    "search.clear()\n",
    "search.send_keys(\"오사카\")\n",
    "time.sleep(1)\n",
    "\n",
    "# 인원입력칸 클릭\n",
    "driver.find_element(By.XPATH, '//*[@id=\"occupancy-box\"]/div').click()\n",
    "time.sleep(1)\n",
    "\n",
    "# 성인 증가\n",
    "for i in range(3):\n",
    "    driver.find_element(By.XPATH, '//*[@id=\"occupancy-selector\"]/div/div/div[2]/div[2]/div[3]').click()\n",
    "    time.sleep(2)\n",
    "\n",
    "# 아동 증가\n",
    "for i in range(2):\n",
    "    driver.find_element(By.XPATH,'//*[@id=\"occupancy-selector\"]/div/div/div[3]/div[2]/div[3]').click()\n",
    "    time.sleep(4)\n",
    "\n",
    "driver.find_element(By.XPATH, '//*[@id=\"SearchBoxContainer\"]/div/div/button').click()\n",
    "time.sleep(5)\n"
   ]
  },
  {
   "cell_type": "code",
   "execution_count": 25,
   "metadata": {},
   "outputs": [],
   "source": [
    "max_try = 3\n",
    "\n",
    "for _ in range(max_try):\n",
    "    element_to_scroll_to = driver.find_element(\n",
    "        By.XPATH,\n",
    "        \"/html\",\n",
    "    )\n",
    "    element_to_scroll_to.send_keys(Keys.PAGE_DOWN)\n",
    "    element_to_scroll_to.send_keys(Keys.PAGE_DOWN)\n",
    "    element_to_scroll_to.send_keys(Keys.PAGE_DOWN)\n",
    "    time.sleep(1)\n",
    "\n",
    "\n",
    "name = driver.find_elements(By.CSS_SELECTOR, \"h3.sc-jrAGrp.sc-kEjbxe.eDlaBj.dscgss\")\n",
    "review = driver.find_elements(By.CSS_SELECTOR, \"p.Typographystyled__TypographyStyled-sc-j18mtu-0.Hkrzy.kite-js-Typography\")\n",
    "elements_with_class = driver.find_elements(By.CLASS_NAME, \"sc-jrAGrp.sc-kEjbxe.eDlaBj.fRhhIV.sc-dQppl.cQZIoF\")\n",
    "\n",
    "position = []\n",
    "\n",
    "for element in elements_with_class:\n",
    "    aria_label = element.get_attribute(\"label\")\n",
    "    if aria_label:\n",
    "        position.append(aria_label)\n"
   ]
  },
  {
   "cell_type": "code",
   "execution_count": 26,
   "metadata": {},
   "outputs": [],
   "source": [
    "name_lst = []\n",
    "for i in range(int(len(name))):\n",
    "    name_lst.append(name[i].text)\n",
    "\n",
    "review_lst = []\n",
    "for i in range(int(len(review))):\n",
    "    review_lst.append(review[i].text)"
   ]
  },
  {
   "cell_type": "code",
   "execution_count": 27,
   "metadata": {},
   "outputs": [
    {
     "name": "stdout",
     "output_type": "stream",
     "text": [
      "['난바, 오사카 - 도심에 위치', '오사카 베이 에어리어, 오사카 - 도심까지 3.7km', '신사이바시, 오사카 - 도심에 위치', '신사이바시, 오사카 - 도심에 위치', '오사카 베이 에어리어, 오사카 - 도심까지 4.3km', '난바, 오사카 - 도심에 위치', '신오사카, 오사카 - 도심까지 2.7km', '난바, 오사카 - 도심에 위치', '신사이바시, 오사카 - 도심에 위치', '신사이바시, 오사카 - 도심에 위치', '난바, 오사카 - 도심에 위치', '우메다, 오사카 - 도심에 위치', '신사이바시, 오사카 - 도심에 위치', '덴노지, 오사카 - 도심까지 98m', '우메다, 오사카 - 도심에 위치', '오사카 베이 에어리어, 오사카 - 도심까지 3.7km']\n"
     ]
    }
   ],
   "source": [
    "review_lst.pop(0)\n"
   ]
  },
  {
   "cell_type": "code",
   "execution_count": 28,
   "metadata": {},
   "outputs": [],
   "source": [
    "data = {\"숙소\": name_lst, \"평점\": review_lst, \"위치\": position}\n",
    "df = pd.DataFrame(data)\n",
    "df.to_csv(\"오사카 숙소.csv\", index=False, encoding=\"utf-8-sig\")"
   ]
  }
 ],
 "metadata": {
  "kernelspec": {
   "display_name": "kernel",
   "language": "python",
   "name": "kernel"
  },
  "language_info": {
   "codemirror_mode": {
    "name": "ipython",
    "version": 3
   },
   "file_extension": ".py",
   "mimetype": "text/x-python",
   "name": "python",
   "nbconvert_exporter": "python",
   "pygments_lexer": "ipython3",
   "version": "3.11.5"
  }
 },
 "nbformat": 4,
 "nbformat_minor": 2
}
