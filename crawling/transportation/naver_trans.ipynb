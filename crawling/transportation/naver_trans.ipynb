{
 "cells": [
  {
   "cell_type": "code",
   "execution_count": 1,
   "metadata": {},
   "outputs": [],
   "source": [
    "from selenium import webdriver\n",
    "from selenium.webdriver.common.keys import Keys\n",
    "from selenium.webdriver.common.by import By\n",
    "import time\n",
    "import pandas as pd\n",
    "import numpy as np"
   ]
  },
  {
   "cell_type": "code",
   "execution_count": 3,
   "metadata": {},
   "outputs": [
    {
     "name": "stdout",
     "output_type": "stream",
     "text": [
      "1\n"
     ]
    },
    {
     "ename": "StaleElementReferenceException",
     "evalue": "Message: stale element reference: stale element not found\n  (Session info: chrome=119.0.6045.160); For documentation on this error, please visit: https://www.selenium.dev/documentation/webdriver/troubleshooting/errors#stale-element-reference-exception\nStacktrace:\n\tGetHandleVerifier [0x00007FF62B7182B2+55298]\n\t(No symbol) [0x00007FF62B685E02]\n\t(No symbol) [0x00007FF62B5405AB]\n\t(No symbol) [0x00007FF62B54509C]\n\t(No symbol) [0x00007FF62B546FDF]\n\t(No symbol) [0x00007FF62B5470D0]\n\t(No symbol) [0x00007FF62B58795E]\n\t(No symbol) [0x00007FF62B585BB1]\n\t(No symbol) [0x00007FF62B583C08]\n\t(No symbol) [0x00007FF62B582C8A]\n\t(No symbol) [0x00007FF62B5787BF]\n\t(No symbol) [0x00007FF62B5A20AA]\n\t(No symbol) [0x00007FF62B5780CF]\n\t(No symbol) [0x00007FF62B5A22C0]\n\t(No symbol) [0x00007FF62B5BAAA4]\n\t(No symbol) [0x00007FF62B5A1E83]\n\t(No symbol) [0x00007FF62B57670A]\n\t(No symbol) [0x00007FF62B577964]\n\tGetHandleVerifier [0x00007FF62BA90AAB+3694587]\n\tGetHandleVerifier [0x00007FF62BAE728E+4048862]\n\tGetHandleVerifier [0x00007FF62BADF173+4015811]\n\tGetHandleVerifier [0x00007FF62B7B47D6+695590]\n\t(No symbol) [0x00007FF62B690CE8]\n\t(No symbol) [0x00007FF62B68CF34]\n\t(No symbol) [0x00007FF62B68D062]\n\t(No symbol) [0x00007FF62B67D3A3]\n\tBaseThreadInitThunk [0x00007FF9DD2B257D+29]\n\tRtlUserThreadStart [0x00007FF9DD64AA58+40]\n",
     "output_type": "error",
     "traceback": [
      "\u001b[1;31m---------------------------------------------------------------------------\u001b[0m",
      "\u001b[1;31mStaleElementReferenceException\u001b[0m            Traceback (most recent call last)",
      "\u001b[1;32mc:\\Users\\wnsdu\\Desktop\\capstone\\crawling\\transportation\\naver_trans.ipynb 셀 2\u001b[0m line \u001b[0;36m2\n\u001b[0;32m     <a href='vscode-notebook-cell:/c%3A/Users/wnsdu/Desktop/capstone/crawling/transportation/naver_trans.ipynb#W1sZmlsZQ%3D%3D?line=22'>23</a>\u001b[0m time\u001b[39m.\u001b[39msleep(\u001b[39m1\u001b[39m)\n\u001b[0;32m     <a href='vscode-notebook-cell:/c%3A/Users/wnsdu/Desktop/capstone/crawling/transportation/naver_trans.ipynb#W1sZmlsZQ%3D%3D?line=24'>25</a>\u001b[0m \u001b[39mprint\u001b[39m(\u001b[39m1\u001b[39m)\n\u001b[1;32m---> <a href='vscode-notebook-cell:/c%3A/Users/wnsdu/Desktop/capstone/crawling/transportation/naver_trans.ipynb#W1sZmlsZQ%3D%3D?line=25'>26</a>\u001b[0m driver\u001b[39m.\u001b[39;49mfind_element(By\u001b[39m.\u001b[39;49mXPATH, \u001b[39m'\u001b[39;49m\u001b[39m/html/body/div/div/div/div[10]/div[2]/div/div[2]/div/div[3]/table/tbody/tr[4]/td[4]/button\u001b[39;49m\u001b[39m'\u001b[39;49m)\u001b[39m.\u001b[39;49mclick()\n\u001b[0;32m     <a href='vscode-notebook-cell:/c%3A/Users/wnsdu/Desktop/capstone/crawling/transportation/naver_trans.ipynb#W1sZmlsZQ%3D%3D?line=26'>27</a>\u001b[0m \u001b[39mprint\u001b[39m(\u001b[39m2\u001b[39m)\n\u001b[0;32m     <a href='vscode-notebook-cell:/c%3A/Users/wnsdu/Desktop/capstone/crawling/transportation/naver_trans.ipynb#W1sZmlsZQ%3D%3D?line=27'>28</a>\u001b[0m driver\u001b[39m.\u001b[39mfind_element(By\u001b[39m.\u001b[39mXPATH, \u001b[39m'\u001b[39m\u001b[39m/html/body/div/div/div/div[10]/div[2]/div/div[2]/div/div[3]/table/tbody/tr[5]/td[4]/button\u001b[39m\u001b[39m'\u001b[39m)\u001b[39m.\u001b[39mclick()\n",
      "File \u001b[1;32mc:\\Users\\wnsdu\\anaconda3\\envs\\capstone\\Lib\\site-packages\\selenium\\webdriver\\remote\\webelement.py:93\u001b[0m, in \u001b[0;36mWebElement.click\u001b[1;34m(self)\u001b[0m\n\u001b[0;32m     91\u001b[0m \u001b[39mdef\u001b[39;00m \u001b[39mclick\u001b[39m(\u001b[39mself\u001b[39m) \u001b[39m-\u001b[39m\u001b[39m>\u001b[39m \u001b[39mNone\u001b[39;00m:\n\u001b[0;32m     92\u001b[0m \u001b[39m    \u001b[39m\u001b[39m\"\"\"Clicks the element.\"\"\"\u001b[39;00m\n\u001b[1;32m---> 93\u001b[0m     \u001b[39mself\u001b[39;49m\u001b[39m.\u001b[39;49m_execute(Command\u001b[39m.\u001b[39;49mCLICK_ELEMENT)\n",
      "File \u001b[1;32mc:\\Users\\wnsdu\\anaconda3\\envs\\capstone\\Lib\\site-packages\\selenium\\webdriver\\remote\\webelement.py:394\u001b[0m, in \u001b[0;36mWebElement._execute\u001b[1;34m(self, command, params)\u001b[0m\n\u001b[0;32m    392\u001b[0m     params \u001b[39m=\u001b[39m {}\n\u001b[0;32m    393\u001b[0m params[\u001b[39m\"\u001b[39m\u001b[39mid\u001b[39m\u001b[39m\"\u001b[39m] \u001b[39m=\u001b[39m \u001b[39mself\u001b[39m\u001b[39m.\u001b[39m_id\n\u001b[1;32m--> 394\u001b[0m \u001b[39mreturn\u001b[39;00m \u001b[39mself\u001b[39;49m\u001b[39m.\u001b[39;49m_parent\u001b[39m.\u001b[39;49mexecute(command, params)\n",
      "File \u001b[1;32mc:\\Users\\wnsdu\\anaconda3\\envs\\capstone\\Lib\\site-packages\\selenium\\webdriver\\remote\\webdriver.py:344\u001b[0m, in \u001b[0;36mWebDriver.execute\u001b[1;34m(self, driver_command, params)\u001b[0m\n\u001b[0;32m    342\u001b[0m response \u001b[39m=\u001b[39m \u001b[39mself\u001b[39m\u001b[39m.\u001b[39mcommand_executor\u001b[39m.\u001b[39mexecute(driver_command, params)\n\u001b[0;32m    343\u001b[0m \u001b[39mif\u001b[39;00m response:\n\u001b[1;32m--> 344\u001b[0m     \u001b[39mself\u001b[39;49m\u001b[39m.\u001b[39;49merror_handler\u001b[39m.\u001b[39;49mcheck_response(response)\n\u001b[0;32m    345\u001b[0m     response[\u001b[39m\"\u001b[39m\u001b[39mvalue\u001b[39m\u001b[39m\"\u001b[39m] \u001b[39m=\u001b[39m \u001b[39mself\u001b[39m\u001b[39m.\u001b[39m_unwrap_value(response\u001b[39m.\u001b[39mget(\u001b[39m\"\u001b[39m\u001b[39mvalue\u001b[39m\u001b[39m\"\u001b[39m, \u001b[39mNone\u001b[39;00m))\n\u001b[0;32m    346\u001b[0m     \u001b[39mreturn\u001b[39;00m response\n",
      "File \u001b[1;32mc:\\Users\\wnsdu\\anaconda3\\envs\\capstone\\Lib\\site-packages\\selenium\\webdriver\\remote\\errorhandler.py:229\u001b[0m, in \u001b[0;36mErrorHandler.check_response\u001b[1;34m(self, response)\u001b[0m\n\u001b[0;32m    227\u001b[0m         alert_text \u001b[39m=\u001b[39m value[\u001b[39m\"\u001b[39m\u001b[39malert\u001b[39m\u001b[39m\"\u001b[39m]\u001b[39m.\u001b[39mget(\u001b[39m\"\u001b[39m\u001b[39mtext\u001b[39m\u001b[39m\"\u001b[39m)\n\u001b[0;32m    228\u001b[0m     \u001b[39mraise\u001b[39;00m exception_class(message, screen, stacktrace, alert_text)  \u001b[39m# type: ignore[call-arg]  # mypy is not smart enough here\u001b[39;00m\n\u001b[1;32m--> 229\u001b[0m \u001b[39mraise\u001b[39;00m exception_class(message, screen, stacktrace)\n",
      "\u001b[1;31mStaleElementReferenceException\u001b[0m: Message: stale element reference: stale element not found\n  (Session info: chrome=119.0.6045.160); For documentation on this error, please visit: https://www.selenium.dev/documentation/webdriver/troubleshooting/errors#stale-element-reference-exception\nStacktrace:\n\tGetHandleVerifier [0x00007FF62B7182B2+55298]\n\t(No symbol) [0x00007FF62B685E02]\n\t(No symbol) [0x00007FF62B5405AB]\n\t(No symbol) [0x00007FF62B54509C]\n\t(No symbol) [0x00007FF62B546FDF]\n\t(No symbol) [0x00007FF62B5470D0]\n\t(No symbol) [0x00007FF62B58795E]\n\t(No symbol) [0x00007FF62B585BB1]\n\t(No symbol) [0x00007FF62B583C08]\n\t(No symbol) [0x00007FF62B582C8A]\n\t(No symbol) [0x00007FF62B5787BF]\n\t(No symbol) [0x00007FF62B5A20AA]\n\t(No symbol) [0x00007FF62B5780CF]\n\t(No symbol) [0x00007FF62B5A22C0]\n\t(No symbol) [0x00007FF62B5BAAA4]\n\t(No symbol) [0x00007FF62B5A1E83]\n\t(No symbol) [0x00007FF62B57670A]\n\t(No symbol) [0x00007FF62B577964]\n\tGetHandleVerifier [0x00007FF62BA90AAB+3694587]\n\tGetHandleVerifier [0x00007FF62BAE728E+4048862]\n\tGetHandleVerifier [0x00007FF62BADF173+4015811]\n\tGetHandleVerifier [0x00007FF62B7B47D6+695590]\n\t(No symbol) [0x00007FF62B690CE8]\n\t(No symbol) [0x00007FF62B68CF34]\n\t(No symbol) [0x00007FF62B68D062]\n\t(No symbol) [0x00007FF62B67D3A3]\n\tBaseThreadInitThunk [0x00007FF9DD2B257D+29]\n\tRtlUserThreadStart [0x00007FF9DD64AA58+40]\n"
     ]
    }
   ],
   "source": [
    "driver = webdriver.Chrome()\n",
    "\n",
    "driver.get(\"https://m-flight.naver.com/\")\n",
    "\n",
    "# 출발 공항\n",
    "driver.find_element(By.XPATH ,\"//*[@class='tabContent_route__1GI8F select_City__2NOOZ start']\").click()\n",
    "search_box = driver.find_element(By.CSS_SELECTOR, 'input.autocomplete_input__1vVkF')\n",
    "search_box.click()\n",
    "search_box.send_keys(\"인천국제공항\")\n",
    "time.sleep(1)\n",
    "\n",
    "# 도착 공항\n",
    "driver.find_element(By.CSS_SELECTOR, 'a.autocomplete_search_item__2WRSw').click()\n",
    "driver.find_element(By.XPATH ,\"//*[@class='tabContent_route__1GI8F select_City__2NOOZ end']\").click()\n",
    "search_box = driver.find_element(By.CSS_SELECTOR, 'input.autocomplete_input__1vVkF')\n",
    "search_box.click()\n",
    "search_box.send_keys(\"간사이 국제 공항\")\n",
    "time.sleep(1)\n",
    "\n",
    "# 해당 공항의 첫 번째 공항 클릭\n",
    "driver.find_element(By.CSS_SELECTOR, 'a.autocomplete_search_item__2WRSw').click()\n",
    "driver.find_element(By.CSS_SELECTOR, 'button.tabContent_option__2y4c6.select_Date__1aF7Y').click()\n",
    "time.sleep(1)\n",
    "\n",
    "print(1)\n",
    "driver.find_element(By.XPATH, '/html/body/div/div/div/div[10]/div[2]/div/div[2]/div/div[3]/table/tbody/tr[4]/td[4]/button').click()\n",
    "print(2)\n",
    "driver.find_element(By.XPATH, '/html/body/div/div/div/div[10]/div[2]/div/div[2]/div/div[3]/table/tbody/tr[5]/td[4]/button').click()\n",
    "time.sleep(1)\n",
    "\n",
    "driver.find_element(By.CSS_SELECTOR, 'button.searchBox_search__2KFn3').click()\n",
    "time.sleep(30)\n",
    "\n",
    "select_option = driver.find_elements(By.CSS_SELECTOR, 'button.header_current__3asvR')\n",
    "select_option[2].click()\n",
    "time.sleep(1)\n",
    "\n",
    "select_benefit = driver.find_elements(By.CSS_SELECTOR, 'button.header_option__2G14z')\n",
    "select_benefit[1].click()\n",
    "time.sleep(1)"
   ]
  },
  {
   "cell_type": "code",
   "execution_count": 7,
   "metadata": {},
   "outputs": [],
   "source": [
    "flight_list = driver.find_elements(By.CSS_SELECTOR, 'div.concurrent_ConcurrentItemContainer__2lQVG.result')"
   ]
  },
  {
   "cell_type": "code",
   "execution_count": 16,
   "metadata": {},
   "outputs": [
    {
     "data": {
      "text/plain": [
       "['에어부산',\n",
       " '15:35ICN',\n",
       " '17:30KIX',\n",
       " '직항, 01시간 55분',\n",
       " '15:25KIX',\n",
       " '17:40ICN',\n",
       " '직항, 02시간 15분',\n",
       " '성인/모든 결제수단',\n",
       " '왕복 353,700원~']"
      ]
     },
     "execution_count": 16,
     "metadata": {},
     "output_type": "execute_result"
    }
   ],
   "source": [
    "flight_list[0]"
   ]
  },
  {
   "cell_type": "code",
   "execution_count": 10,
   "metadata": {},
   "outputs": [],
   "source": [
    "for i in range(len(flight_list)):\n",
    "    flight_list[i] = flight_list[i].text.split('\\n')"
   ]
  },
  {
   "cell_type": "code",
   "execution_count": 15,
   "metadata": {},
   "outputs": [
    {
     "data": {
      "text/plain": [
       "9"
      ]
     },
     "execution_count": 15,
     "metadata": {},
     "output_type": "execute_result"
    }
   ],
   "source": [
    "len(flight_list[0])"
   ]
  },
  {
   "cell_type": "code",
   "execution_count": 17,
   "metadata": {},
   "outputs": [],
   "source": [
    "col_label = ['항공사', '첫날 출발 시간 및 출발 공항 약자', '첫날 도착 시간 및 도착 공항 약자', '운행 방식(직항, 왕복 등 ) 및 운행 시간', '마지막날 출발 시간 및 출발 공항 약자', '마지막날 도착 시간 및 도착 공항 약자', '운행 방식 및 운행 시간', '구분', '최소 금액 ']\n",
    "df = pd.DataFrame(flight_list)"
   ]
  },
  {
   "cell_type": "code",
   "execution_count": 19,
   "metadata": {},
   "outputs": [],
   "source": [
    "df.to_csv(\"transportation.csv\", index=False, encoding=\"utf-8-sig\")"
   ]
  },
  {
   "cell_type": "code",
   "execution_count": null,
   "metadata": {},
   "outputs": [],
   "source": [
    "driver.quit()"
   ]
  }
 ],
 "metadata": {
  "kernelspec": {
   "display_name": "capstone",
   "language": "python",
   "name": "python3"
  },
  "language_info": {
   "codemirror_mode": {
    "name": "ipython",
    "version": 3
   },
   "file_extension": ".py",
   "mimetype": "text/x-python",
   "name": "python",
   "nbconvert_exporter": "python",
   "pygments_lexer": "ipython3",
   "version": "3.11.5"
  }
 },
 "nbformat": 4,
 "nbformat_minor": 2
}
