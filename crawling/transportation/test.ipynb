{
 "cells": [
  {
   "cell_type": "code",
   "execution_count": 1,
   "metadata": {},
   "outputs": [],
   "source": [
    "from selenium import webdriver\n",
    "from selenium.webdriver.common.keys import Keys\n",
    "from selenium.webdriver.common.by import By\n",
    "\n",
    "import time\n"
   ]
  },
  {
   "cell_type": "code",
   "execution_count": 2,
   "metadata": {},
   "outputs": [
    {
     "name": "stderr",
     "output_type": "stream",
     "text": [
      "There was an error managing chrome (error sending request for url (https://googlechromelabs.github.io/chrome-for-testing/known-good-versions-with-downloads.json): error trying to connect: dns error: 알려진 호스트가 없습니다. (os error 11001)); using driver found in the cache\n"
     ]
    },
    {
     "ename": "WebDriverException",
     "evalue": "Message: unknown error: net::ERR_INTERNET_DISCONNECTED\n  (Session info: chrome=119.0.6045.200)\nStacktrace:\n\tGetHandleVerifier [0x00007FF6133D82B2+55298]\n\t(No symbol) [0x00007FF613345E02]\n\t(No symbol) [0x00007FF6132005AB]\n\t(No symbol) [0x00007FF6131FC353]\n\t(No symbol) [0x00007FF6131EF4CC]\n\t(No symbol) [0x00007FF6131F0714]\n\t(No symbol) [0x00007FF6131EF8DF]\n\t(No symbol) [0x00007FF6131EE803]\n\t(No symbol) [0x00007FF6131EE7A8]\n\t(No symbol) [0x00007FF6131ECF0E]\n\t(No symbol) [0x00007FF6131ED803]\n\t(No symbol) [0x00007FF6132029BF]\n\t(No symbol) [0x00007FF61327AE27]\n\t(No symbol) [0x00007FF6132620AA]\n\t(No symbol) [0x00007FF61327AAA4]\n\t(No symbol) [0x00007FF613261E83]\n\t(No symbol) [0x00007FF61323670A]\n\t(No symbol) [0x00007FF613237964]\n\tGetHandleVerifier [0x00007FF613750AAB+3694587]\n\tGetHandleVerifier [0x00007FF6137A728E+4048862]\n\tGetHandleVerifier [0x00007FF61379F173+4015811]\n\tGetHandleVerifier [0x00007FF6134747D6+695590]\n\t(No symbol) [0x00007FF613350CE8]\n\t(No symbol) [0x00007FF61334CF34]\n\t(No symbol) [0x00007FF61334D062]\n\t(No symbol) [0x00007FF61333D3A3]\n\tBaseThreadInitThunk [0x00007FFE25E3257D+29]\n\tRtlUserThreadStart [0x00007FFE27BCAA58+40]\n",
     "output_type": "error",
     "traceback": [
      "\u001b[1;31m---------------------------------------------------------------------------\u001b[0m",
      "\u001b[1;31mWebDriverException\u001b[0m                        Traceback (most recent call last)",
      "\u001b[1;32mc:\\Users\\wnsdu\\Desktop\\capstone\\crawling\\transportation\\test.ipynb 셀 2\u001b[0m line \u001b[0;36m2\n\u001b[0;32m      <a href='vscode-notebook-cell:/c%3A/Users/wnsdu/Desktop/capstone/crawling/transportation/test.ipynb#W1sZmlsZQ%3D%3D?line=0'>1</a>\u001b[0m driver \u001b[39m=\u001b[39m webdriver\u001b[39m.\u001b[39mChrome()\n\u001b[1;32m----> <a href='vscode-notebook-cell:/c%3A/Users/wnsdu/Desktop/capstone/crawling/transportation/test.ipynb#W1sZmlsZQ%3D%3D?line=1'>2</a>\u001b[0m driver\u001b[39m.\u001b[39;49mget(\u001b[39m\"\u001b[39;49m\u001b[39mhttps://www.google.com/travel/flights?hl=ko\u001b[39;49m\u001b[39m\"\u001b[39;49m)\n\u001b[0;32m      <a href='vscode-notebook-cell:/c%3A/Users/wnsdu/Desktop/capstone/crawling/transportation/test.ipynb#W1sZmlsZQ%3D%3D?line=2'>3</a>\u001b[0m time\u001b[39m.\u001b[39msleep(\u001b[39m1\u001b[39m)\n\u001b[0;32m      <a href='vscode-notebook-cell:/c%3A/Users/wnsdu/Desktop/capstone/crawling/transportation/test.ipynb#W1sZmlsZQ%3D%3D?line=4'>5</a>\u001b[0m \u001b[39m# 출발지 입력\u001b[39;00m\n",
      "File \u001b[1;32mc:\\Users\\wnsdu\\anaconda3\\envs\\capstone\\Lib\\site-packages\\selenium\\webdriver\\remote\\webdriver.py:353\u001b[0m, in \u001b[0;36mWebDriver.get\u001b[1;34m(self, url)\u001b[0m\n\u001b[0;32m    351\u001b[0m \u001b[39mdef\u001b[39;00m \u001b[39mget\u001b[39m(\u001b[39mself\u001b[39m, url: \u001b[39mstr\u001b[39m) \u001b[39m-\u001b[39m\u001b[39m>\u001b[39m \u001b[39mNone\u001b[39;00m:\n\u001b[0;32m    352\u001b[0m \u001b[39m    \u001b[39m\u001b[39m\"\"\"Loads a web page in the current browser session.\"\"\"\u001b[39;00m\n\u001b[1;32m--> 353\u001b[0m     \u001b[39mself\u001b[39;49m\u001b[39m.\u001b[39;49mexecute(Command\u001b[39m.\u001b[39;49mGET, {\u001b[39m\"\u001b[39;49m\u001b[39murl\u001b[39;49m\u001b[39m\"\u001b[39;49m: url})\n",
      "File \u001b[1;32mc:\\Users\\wnsdu\\anaconda3\\envs\\capstone\\Lib\\site-packages\\selenium\\webdriver\\remote\\webdriver.py:344\u001b[0m, in \u001b[0;36mWebDriver.execute\u001b[1;34m(self, driver_command, params)\u001b[0m\n\u001b[0;32m    342\u001b[0m response \u001b[39m=\u001b[39m \u001b[39mself\u001b[39m\u001b[39m.\u001b[39mcommand_executor\u001b[39m.\u001b[39mexecute(driver_command, params)\n\u001b[0;32m    343\u001b[0m \u001b[39mif\u001b[39;00m response:\n\u001b[1;32m--> 344\u001b[0m     \u001b[39mself\u001b[39;49m\u001b[39m.\u001b[39;49merror_handler\u001b[39m.\u001b[39;49mcheck_response(response)\n\u001b[0;32m    345\u001b[0m     response[\u001b[39m\"\u001b[39m\u001b[39mvalue\u001b[39m\u001b[39m\"\u001b[39m] \u001b[39m=\u001b[39m \u001b[39mself\u001b[39m\u001b[39m.\u001b[39m_unwrap_value(response\u001b[39m.\u001b[39mget(\u001b[39m\"\u001b[39m\u001b[39mvalue\u001b[39m\u001b[39m\"\u001b[39m, \u001b[39mNone\u001b[39;00m))\n\u001b[0;32m    346\u001b[0m     \u001b[39mreturn\u001b[39;00m response\n",
      "File \u001b[1;32mc:\\Users\\wnsdu\\anaconda3\\envs\\capstone\\Lib\\site-packages\\selenium\\webdriver\\remote\\errorhandler.py:229\u001b[0m, in \u001b[0;36mErrorHandler.check_response\u001b[1;34m(self, response)\u001b[0m\n\u001b[0;32m    227\u001b[0m         alert_text \u001b[39m=\u001b[39m value[\u001b[39m\"\u001b[39m\u001b[39malert\u001b[39m\u001b[39m\"\u001b[39m]\u001b[39m.\u001b[39mget(\u001b[39m\"\u001b[39m\u001b[39mtext\u001b[39m\u001b[39m\"\u001b[39m)\n\u001b[0;32m    228\u001b[0m     \u001b[39mraise\u001b[39;00m exception_class(message, screen, stacktrace, alert_text)  \u001b[39m# type: ignore[call-arg]  # mypy is not smart enough here\u001b[39;00m\n\u001b[1;32m--> 229\u001b[0m \u001b[39mraise\u001b[39;00m exception_class(message, screen, stacktrace)\n",
      "\u001b[1;31mWebDriverException\u001b[0m: Message: unknown error: net::ERR_INTERNET_DISCONNECTED\n  (Session info: chrome=119.0.6045.200)\nStacktrace:\n\tGetHandleVerifier [0x00007FF6133D82B2+55298]\n\t(No symbol) [0x00007FF613345E02]\n\t(No symbol) [0x00007FF6132005AB]\n\t(No symbol) [0x00007FF6131FC353]\n\t(No symbol) [0x00007FF6131EF4CC]\n\t(No symbol) [0x00007FF6131F0714]\n\t(No symbol) [0x00007FF6131EF8DF]\n\t(No symbol) [0x00007FF6131EE803]\n\t(No symbol) [0x00007FF6131EE7A8]\n\t(No symbol) [0x00007FF6131ECF0E]\n\t(No symbol) [0x00007FF6131ED803]\n\t(No symbol) [0x00007FF6132029BF]\n\t(No symbol) [0x00007FF61327AE27]\n\t(No symbol) [0x00007FF6132620AA]\n\t(No symbol) [0x00007FF61327AAA4]\n\t(No symbol) [0x00007FF613261E83]\n\t(No symbol) [0x00007FF61323670A]\n\t(No symbol) [0x00007FF613237964]\n\tGetHandleVerifier [0x00007FF613750AAB+3694587]\n\tGetHandleVerifier [0x00007FF6137A728E+4048862]\n\tGetHandleVerifier [0x00007FF61379F173+4015811]\n\tGetHandleVerifier [0x00007FF6134747D6+695590]\n\t(No symbol) [0x00007FF613350CE8]\n\t(No symbol) [0x00007FF61334CF34]\n\t(No symbol) [0x00007FF61334D062]\n\t(No symbol) [0x00007FF61333D3A3]\n\tBaseThreadInitThunk [0x00007FFE25E3257D+29]\n\tRtlUserThreadStart [0x00007FFE27BCAA58+40]\n"
     ]
    }
   ],
   "source": [
    "driver = webdriver.Chrome()\n",
    "driver.get(\"https://www.google.com/travel/flights?hl=ko\")\n",
    "time.sleep(1)\n",
    "\n",
    "# 출발지 입력ㅉ\n",
    "driver.find_element(By.CSS_SELECTOR, '#i21 > div.e5F5td.BGeFcf > div > div > div.cQnuXe.k0gFV > div > div > input').click()\n",
    "time.sleep(2)\n",
    "driver.find_element(By.CSS_SELECTOR, '#i21 > div.ZGEB9c.yRXJAe.P0ukfb.a4gL0d.TFC9me.PRvvEd.Otspu.iWO5td.BDJ8fb > div:nth-child(3) > div.lJj3Hd.PuaAn > div.peGo5b.ozeT5c > div > input').send_keys('인천국제공항')\n",
    "time.sleep(2)\n",
    "driver.find_element(By.CSS_SELECTOR, '#c15 > div.CwL3Ec').click()\n",
    "time.sleep(2)\n",
    "\n",
    "# 도착지 입력\n",
    "driver.find_element(By.CSS_SELECTOR, '#i21 > div.e5F5td.vxNK6d > div > div > div.cQnuXe.k0gFV > div > div > input').click()\n",
    "time.sleep(2)\n",
    "driver.find_element(By.CSS_SELECTOR, '#i21 > div.ZGEB9c.yRXJAe.P0ukfb.a4gL0d.TFC9me.PRvvEd.WKeVIb.Otspu.iWO5td.BDJ8fb > div:nth-child(3) > div.lJj3Hd.PuaAn > div.peGo5b.ozeT5c > div > input').send_keys('간사이 국제 공항')\n",
    "time.sleep(2)\n",
    "driver.find_element(By.CSS_SELECTOR, '#c27 > div.CwL3Ec').click()\n",
    "time.sleep(2)\n",
    "\n"
   ]
  },
  {
   "cell_type": "code",
   "execution_count": null,
   "metadata": {},
   "outputs": [],
   "source": [
    "# 가는날 선택\n",
    "driver.find_element(By.CSS_SELECTOR, '#yDmH0d > c-wiz.zQTmif.SSPGKf > div > div:nth-child(2) > c-wiz > div.cKvRXe > c-wiz > div.vg4Z0e > div:nth-child(1) > div.SS6Dqf.POQx1c > div.AJxgH > div > div.rIZzse > div.bgJkKe.K0Tsu > div > div > div.cQnuXe.k0gFV > div > div > div:nth-child(1) > div > div.oSuIZ.YICvqf.kStSsc.ieVaIb > div > input').click()\n",
    "time.sleep(2)\n",
    "driver.find_element(By.CSS_SELECTOR, '#ow79 > div.ZGEB9c.yRXJAe.P0ukfb.icWGef.bgJkKe.BtDLie.iWO5td > div > div.rj7qGc.ksI2Bc.P0ukfb > div.X4feqd.wDt51d > div.AotkO.uknidb > div.oSuIZ.YICvqf.kStSsc.ieVaIb > div > input').send_keys('2024-01-01')\n",
    "time.sleep(2)\n",
    "driver.find_element(By.CSS_SELECTOR, '#ow79 > div.ZGEB9c.yRXJAe.P0ukfb.icWGef.bgJkKe.BtDLie.iWO5td > div > div.rj7qGc.ksI2Bc.P0ukfb > div.X4feqd.wDt51d > div.AotkO.uknidb > div.oSuIZ.YICvqf.lJODHb.qXDC9e > div > input').send_keys('2024-01-07')\n",
    "time.sleep(2)\n",
    "driver.find_element(By.CSS_SELECTOR, '#ow79 > div.ZGEB9c.yRXJAe.P0ukfb.icWGef.bgJkKe.BtDLie.iWO5td > div > div.rj7qGc.ksI2Bc.P0ukfb > div.X4feqd.wDt51d > div.AotkO.uknidb > div.oSuIZ.YICvqf.lJODHb.qXDC9e > div > input').send_keys(Keys.ENTER)\n",
    "time.sleep(2)\n",
    "driver.find_element(By.CSS_SELECTOR, '#ow79 > div.ZGEB9c.yRXJAe.P0ukfb.icWGef.bgJkKe.BtDLie.iWO5td > div > div.akjk5c.FrVb0c > div.WXaAwc > div > button').click()\n",
    "time.sleep(2)"
   ]
  },
  {
   "cell_type": "code",
   "execution_count": null,
   "metadata": {},
   "outputs": [],
   "source": [
    "driver.find_element(By.CSS_SELECTOR, '#yDmH0d > c-wiz.zQTmif.SSPGKf > div > div:nth-child(2) > c-wiz > div.cKvRXe > c-wiz > div.vg4Z0e > div:nth-child(1) > div.SS6Dqf.POQx1c > div.MXvFbd > div > button').click()"
   ]
  },
  {
   "cell_type": "code",
   "execution_count": null,
   "metadata": {},
   "outputs": [],
   "source": [
    "try:\n",
    "    driver.find_element(By.CSS_SELECTOR, '#yDmH0d > c-wiz.zQTmif.SSPGKf > div > div:nth-child(2) > c-wiz > div.cKvRXe > c-wiz > div.PSZ8D.EA71Tc > div.FXkZv > div:nth-child(6) > ul > li.ZVk93d > div > span.XsapA').click()\n",
    "except Exception as e:\n",
    "    pass\n",
    "time.sleep(2)"
   ]
  },
  {
   "cell_type": "code",
   "execution_count": null,
   "metadata": {},
   "outputs": [],
   "source": [
    "# opt_air = driver.find_element(By.CSS_SELECTOR, '#yDmH0d > c-wiz.zQTmif.SSPGKf > div > div:nth-child(2) > c-wiz > div.cKvRXe > c-wiz > div.PSZ8D.EA71Tc > div.FXkZv > div:nth-child(4) > ul')\n",
    "# other_air = driver.find_element(By.CSS_SELECTOR, '#yDmH0d > c-wiz.zQTmif.SSPGKf > div > div:nth-child(2) > c-wiz > div.cKvRXe > c-wiz > div.PSZ8D.EA71Tc > div.FXkZv > div:nth-child(6) > ul')\n",
    "li = []\n",
    "test = driver.find_elements(By.CSS_SELECTOR, '#yDmH0d > c-wiz.zQTmif.SSPGKf > div > div:nth-child(2) > c-wiz > div.cKvRXe > c-wiz > div.PSZ8D.EA71Tc > div.FXkZv > div:nth-child(4) > ul > li')\n",
    "for i in range(len(test)):\n",
    "    tmp = driver.find_element(By.CSS_SELECTOR, '#yDmH0d > c-wiz.zQTmif.SSPGKf > div > div:nth-child(2) > c-wiz > div.cKvRXe > c-wiz > div.PSZ8D.EA71Tc > div.FXkZv > div:nth-child(4) > ul > li:nth-child({}) > div > div.JMc5Xc'.format(i + 1)).get_attribute('aria-label')\n",
    "    li.append(tmp)\n",
    "    test[i] = test[i].text\n",
    "    "
   ]
  },
  {
   "cell_type": "code",
   "execution_count": null,
   "metadata": {},
   "outputs": [],
   "source": [
    "time.sleep(2)\n",
    "driver.find_element(By.CSS_SELECTOR, '#yDmH0d > c-wiz.zQTmif.SSPGKf > div > div:nth-child(2) > c-wiz > div.cKvRXe > c-wiz > div.PSZ8D.EA71Tc > div.FXkZv > div:nth-child(4) > ul > li:nth-child(1) > div').click()\n",
    "time.sleep(2)"
   ]
  },
  {
   "cell_type": "code",
   "execution_count": null,
   "metadata": {},
   "outputs": [],
   "source": [
    "ed_li = []\n",
    "ed_opt = driver.find_elements(By.CSS_SELECTOR, '#yDmH0d > c-wiz.zQTmif.SSPGKf > div > div:nth-child(2) > c-wiz > div.cKvRXe > c-wiz > div.PSZ8D.EA71Tc > div.FXkZv > div:nth-child(4) > ul > li')\n",
    "ed_other = driver.find_elements(By.CSS_SELECTOR, '#yDmH0d > c-wiz.zQTmif.SSPGKf > div > div:nth-child(2) > c-wiz > div.cKvRXe > c-wiz > div.PSZ8D.EA71Tc > div.FXkZv > div:nth-child(5) > ul > li')"
   ]
  },
  {
   "cell_type": "code",
   "execution_count": null,
   "metadata": {},
   "outputs": [],
   "source": [
    "for i in range(len(ed_opt)):\n",
    "    tmp = driver.find_element(By.CSS_SELECTOR, '#yDmH0d > c-wiz.zQTmif.SSPGKf > div > div:nth-child(2) > c-wiz > div.cKvRXe > c-wiz > div.PSZ8D.EA71Tc > div.FXkZv > div:nth-child(4) > ul > li:nth-child({}) > div > div.JMc5Xc'.format(i + 1)).get_attribute('aria-label')\n",
    "    ed_li.append(tmp)\n",
    "    ed_opt[i] = ed_opt[i].text\n",
    "time.sleep(2)"
   ]
  },
  {
   "cell_type": "code",
   "execution_count": null,
   "metadata": {},
   "outputs": [],
   "source": [
    "driver.find_element(By.CSS_SELECTOR, '#yDmH0d > c-wiz.zQTmif.SSPGKf > div > div:nth-child(2) > c-wiz > div.cKvRXe > c-wiz > div.PSZ8D.EA71Tc > div.FXkZv > div:nth-child(4) > ul > li:nth-child(1) > div').click()"
   ]
  },
  {
   "cell_type": "code",
   "execution_count": null,
   "metadata": {},
   "outputs": [],
   "source": [
    "url = driver.current_url"
   ]
  },
  {
   "cell_type": "code",
   "execution_count": null,
   "metadata": {},
   "outputs": [
    {
     "data": {
      "text/plain": [
       "'https://www.google.com/travel/flights/booking?tfs=CBwQAho_EgoyMDI0LTAxLTAxIh8KA0lDThIKMjAyNC0wMS0wMRoDS0lYKgJNTTIDNzAyagcIARIDSUNOcgcIARIDS0lYGj8SCjIwMjQtMDEtMDciHwoDS0lYEgoyMDI0LTAxLTA3GgNJQ04qAk1NMgM3MDVqBwgBEgNLSVhyBwgBEgNJQ05AAUgBcAGCAQsI____________AZgBAQ&tfu=CmxDalJJVkVWeFRrMHlWemhyZG1kQlRIRlVjMmRDUnkwdExTMHRMUzB0TFhSbmFHUXhOVUZCUVVGQlIxWnBOME5CUkhJemNFZEJFZ1ZOVFRjd05Sb0xDSStrRlJBQUdnTkxVbGM0SEhDKzBBRT0SAggBIgYKATESATA&hl=ko'"
      ]
     },
     "execution_count": 16,
     "metadata": {},
     "output_type": "execute_result"
    }
   ],
   "source": [
    "url"
   ]
  },
  {
   "cell_type": "code",
   "execution_count": null,
   "metadata": {},
   "outputs": [
    {
     "data": {
      "text/plain": [
       "['오후 12:30\\n – \\n오후 2:35\\n다구간 항공권\\n피치항공\\n2시간 5분\\nKIX–ICN\\n직항\\nCO2 60kg\\n-22% 배출\\n₩348,687\\n왕복\\n나무 1,035그루가 하루에 흡수하는 양만큼 CO2 배출이 방지됩니다.',\n",
       " '오전 11:50\\n – \\n오후 1:50\\n다구간 항공권\\n제주항공\\n2시간\\nKIX–ICN\\n직항\\nCO2 80kg\\n평균 배출량\\n₩384,354\\n왕복',\n",
       " '오후 3:25\\n – \\n오후 5:40\\n다구간 항공권\\n에어부산\\n2시간 15분\\nKIX–ICN\\n직항\\nCO2 76kg\\n평균 배출량\\n₩391,610\\n왕복']"
      ]
     },
     "execution_count": 17,
     "metadata": {},
     "output_type": "execute_result"
    }
   ],
   "source": [
    "ed_opt"
   ]
  },
  {
   "cell_type": "code",
   "execution_count": null,
   "metadata": {},
   "outputs": [
    {
     "data": {
      "text/plain": [
       "['왕복 총 가격은 최저 348687 대한민국 원입니다. 피치항공의 직항 항공편입니다. 일요일, 1월 7 오후 12:30에 간사이 국제 공항에서 출발하여 일요일, 1월 7 오후 2:35에 인천국제공항에 도착합니다. 총 비행 시간은 2시간 5분입니다.  다구간 항공권. 이 운항 일정의 각 항공권을 따로 구입합니다.. 항공편 선택',\n",
       " '왕복 총 가격은 최저 384354 대한민국 원입니다. 제주항공의 직항 항공편입니다. 일요일, 1월 7 오전 11:50에 간사이 국제 공항에서 출발하여 일요일, 1월 7 오후 1:50에 인천국제공항에 도착합니다. 총 비행 시간은 2시간입니다.  다구간 항공권. 이 운항 일정의 각 항공권을 따로 구입합니다.. 항공편 선택',\n",
       " '왕복 총 가격은 최저 391610 대한민국 원입니다. 에어부산의 직항 항공편입니다. 일요일, 1월 7 오후 3:25에 간사이 국제 공항에서 출발하여 일요일, 1월 7 오후 5:40에 인천국제공항에 도착합니다. 총 비행 시간은 2시간 15분입니다.  다구간 항공권. 이 운항 일정의 각 항공권을 따로 구입합니다.. 항공편 선택']"
      ]
     },
     "execution_count": 18,
     "metadata": {},
     "output_type": "execute_result"
    }
   ],
   "source": [
    "ed_li"
   ]
  },
  {
   "cell_type": "code",
   "execution_count": null,
   "metadata": {},
   "outputs": [],
   "source": []
  }
 ],
 "metadata": {
  "kernelspec": {
   "display_name": "capstone",
   "language": "python",
   "name": "python3"
  },
  "language_info": {
   "codemirror_mode": {
    "name": "ipython",
    "version": 3
   },
   "file_extension": ".py",
   "mimetype": "text/x-python",
   "name": "python",
   "nbconvert_exporter": "python",
   "pygments_lexer": "ipython3",
   "version": "3.11.5"
  }
 },
 "nbformat": 4,
 "nbformat_minor": 2
}
