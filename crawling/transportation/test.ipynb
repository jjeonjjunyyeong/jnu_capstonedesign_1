{
 "cells": [
  {
   "cell_type": "code",
   "execution_count": 5,
   "metadata": {},
   "outputs": [],
   "source": [
    "from selenium import webdriver\n",
    "from selenium.webdriver.common.keys import Keys\n",
    "from selenium.webdriver.common.by import By\n",
    "\n",
    "import time\n"
   ]
  },
  {
   "cell_type": "code",
   "execution_count": 6,
   "metadata": {},
   "outputs": [],
   "source": [
    "driver = webdriver.Chrome()\n",
    "driver.get(\"https://www.google.com/travel/flights?hl=ko\")\n",
    "time.sleep(1)\n",
    "\n",
    "# 출발지 입력\n",
    "driver.find_element(By.CSS_SELECTOR, '#i21 > div.e5F5td.BGeFcf > div > div > div.cQnuXe.k0gFV > div > div > input').click()\n",
    "time.sleep(2)\n",
    "driver.find_element(By.CSS_SELECTOR, '#i21 > div.ZGEB9c.yRXJAe.P0ukfb.a4gL0d.TFC9me.PRvvEd.Otspu.iWO5td.BDJ8fb > div:nth-child(3) > div.lJj3Hd.PuaAn > div.peGo5b.ozeT5c > div > input').send_keys('인천국제공항')\n",
    "time.sleep(2)\n",
    "driver.find_element(By.CSS_SELECTOR, '#c15 > div.CwL3Ec').click()\n",
    "time.sleep(2)\n",
    "\n",
    "# 도착지 입력\n",
    "driver.find_element(By.CSS_SELECTOR, '#i21 > div.e5F5td.vxNK6d > div > div > div.cQnuXe.k0gFV > div > div > input').click()\n",
    "time.sleep(2)\n",
    "driver.find_element(By.CSS_SELECTOR, '#i21 > div.ZGEB9c.yRXJAe.P0ukfb.a4gL0d.TFC9me.PRvvEd.WKeVIb.Otspu.iWO5td.BDJ8fb > div:nth-child(3) > div.lJj3Hd.PuaAn > div.peGo5b.ozeT5c > div > input').send_keys('간사이 국제 공항')\n",
    "time.sleep(2)\n",
    "driver.find_element(By.CSS_SELECTOR, '#c27 > div.CwL3Ec').click()\n",
    "time.sleep(2)\n",
    "\n"
   ]
  },
  {
   "cell_type": "code",
   "execution_count": 7,
   "metadata": {},
   "outputs": [],
   "source": [
    "# 가는날 선택\n",
    "driver.find_element(By.CSS_SELECTOR, '#yDmH0d > c-wiz.zQTmif.SSPGKf > div > div:nth-child(2) > c-wiz > div.cKvRXe > c-wiz > div.vg4Z0e > div:nth-child(1) > div.SS6Dqf.POQx1c > div.AJxgH > div > div.rIZzse > div.bgJkKe.K0Tsu > div > div > div.cQnuXe.k0gFV > div > div > div:nth-child(1) > div > div.oSuIZ.YICvqf.kStSsc.ieVaIb > div > input').click()\n",
    "time.sleep(2)\n",
    "driver.find_element(By.CSS_SELECTOR, '#ow79 > div.ZGEB9c.yRXJAe.P0ukfb.icWGef.bgJkKe.BtDLie.iWO5td > div > div.rj7qGc.ksI2Bc.P0ukfb > div.X4feqd.wDt51d > div.AotkO.uknidb > div.oSuIZ.YICvqf.kStSsc.ieVaIb > div > input').send_keys('2024-01-01')\n",
    "time.sleep(2)\n",
    "driver.find_element(By.CSS_SELECTOR, '#ow79 > div.ZGEB9c.yRXJAe.P0ukfb.icWGef.bgJkKe.BtDLie.iWO5td > div > div.rj7qGc.ksI2Bc.P0ukfb > div.X4feqd.wDt51d > div.AotkO.uknidb > div.oSuIZ.YICvqf.lJODHb.qXDC9e > div > input').send_keys('2024-01-07')\n",
    "time.sleep(2)\n",
    "driver.find_element(By.CSS_SELECTOR, '#ow79 > div.ZGEB9c.yRXJAe.P0ukfb.icWGef.bgJkKe.BtDLie.iWO5td > div > div.rj7qGc.ksI2Bc.P0ukfb > div.X4feqd.wDt51d > div.AotkO.uknidb > div.oSuIZ.YICvqf.lJODHb.qXDC9e > div > input').send_keys(Keys.ENTER)\n",
    "time.sleep(2)\n",
    "driver.find_element(By.CSS_SELECTOR, '#ow79 > div.ZGEB9c.yRXJAe.P0ukfb.icWGef.bgJkKe.BtDLie.iWO5td > div > div.akjk5c.FrVb0c > div.WXaAwc > div > button').click()\n",
    "time.sleep(2)"
   ]
  },
  {
   "cell_type": "code",
   "execution_count": 8,
   "metadata": {},
   "outputs": [],
   "source": [
    "driver.find_element(By.CSS_SELECTOR, '#yDmH0d > c-wiz.zQTmif.SSPGKf > div > div:nth-child(2) > c-wiz > div.cKvRXe > c-wiz > div.vg4Z0e > div:nth-child(1) > div.SS6Dqf.POQx1c > div.MXvFbd > div > button').click()"
   ]
  },
  {
   "cell_type": "code",
   "execution_count": 9,
   "metadata": {},
   "outputs": [],
   "source": [
    "try:\n",
    "    driver.find_element(By.CSS_SELECTOR, '#yDmH0d > c-wiz.zQTmif.SSPGKf > div > div:nth-child(2) > c-wiz > div.cKvRXe > c-wiz > div.PSZ8D.EA71Tc > div.FXkZv > div:nth-child(6) > ul > li.ZVk93d > div > span.XsapA').click()\n",
    "except Exception as e:\n",
    "    pass\n",
    "time.sleep(2)"
   ]
  },
  {
   "cell_type": "code",
   "execution_count": 10,
   "metadata": {},
   "outputs": [],
   "source": [
    "# opt_air = driver.find_element(By.CSS_SELECTOR, '#yDmH0d > c-wiz.zQTmif.SSPGKf > div > div:nth-child(2) > c-wiz > div.cKvRXe > c-wiz > div.PSZ8D.EA71Tc > div.FXkZv > div:nth-child(4) > ul')\n",
    "# other_air = driver.find_element(By.CSS_SELECTOR, '#yDmH0d > c-wiz.zQTmif.SSPGKf > div > div:nth-child(2) > c-wiz > div.cKvRXe > c-wiz > div.PSZ8D.EA71Tc > div.FXkZv > div:nth-child(6) > ul')\n",
    "li = []\n",
    "test = driver.find_elements(By.CSS_SELECTOR, '#yDmH0d > c-wiz.zQTmif.SSPGKf > div > div:nth-child(2) > c-wiz > div.cKvRXe > c-wiz > div.PSZ8D.EA71Tc > div.FXkZv > div:nth-child(4) > ul > li')\n",
    "for i in range(len(test)):\n",
    "    tmp = driver.find_element(By.CSS_SELECTOR, '#yDmH0d > c-wiz.zQTmif.SSPGKf > div > div:nth-child(2) > c-wiz > div.cKvRXe > c-wiz > div.PSZ8D.EA71Tc > div.FXkZv > div:nth-child(4) > ul > li:nth-child({}) > div > div.JMc5Xc'.format(i + 1)).get_attribute('aria-label')\n",
    "    li.append(tmp)\n",
    "    test[i] = test[i].text\n",
    "    "
   ]
  },
  {
   "cell_type": "code",
   "execution_count": 11,
   "metadata": {},
   "outputs": [],
   "source": [
    "time.sleep(2)\n",
    "driver.find_element(By.CSS_SELECTOR, '#yDmH0d > c-wiz.zQTmif.SSPGKf > div > div:nth-child(2) > c-wiz > div.cKvRXe > c-wiz > div.PSZ8D.EA71Tc > div.FXkZv > div:nth-child(4) > ul > li:nth-child(1) > div').click()\n",
    "time.sleep(2)"
   ]
  },
  {
   "cell_type": "code",
   "execution_count": 12,
   "metadata": {},
   "outputs": [],
   "source": [
    "ed_li = []\n",
    "ed_opt = driver.find_elements(By.CSS_SELECTOR, '#yDmH0d > c-wiz.zQTmif.SSPGKf > div > div:nth-child(2) > c-wiz > div.cKvRXe > c-wiz > div.PSZ8D.EA71Tc > div.FXkZv > div:nth-child(4) > ul > li')\n",
    "ed_other = driver.find_elements(By.CSS_SELECTOR, '#yDmH0d > c-wiz.zQTmif.SSPGKf > div > div:nth-child(2) > c-wiz > div.cKvRXe > c-wiz > div.PSZ8D.EA71Tc > div.FXkZv > div:nth-child(5) > ul > li')"
   ]
  },
  {
   "cell_type": "code",
   "execution_count": 13,
   "metadata": {},
   "outputs": [],
   "source": [
    "for i in range(len(ed_opt)):\n",
    "    tmp = driver.find_element(By.CSS_SELECTOR, '#yDmH0d > c-wiz.zQTmif.SSPGKf > div > div:nth-child(2) > c-wiz > div.cKvRXe > c-wiz > div.PSZ8D.EA71Tc > div.FXkZv > div:nth-child(4) > ul > li:nth-child({}) > div > div.JMc5Xc'.format(i + 1)).get_attribute('aria-label')\n",
    "    ed_li.append(tmp)\n",
    "    ed_opt[i] = ed_opt[i].text\n",
    "time.sleep(2)"
   ]
  },
  {
   "cell_type": "code",
   "execution_count": 14,
   "metadata": {},
   "outputs": [],
   "source": [
    "driver.find_element(By.CSS_SELECTOR, '#yDmH0d > c-wiz.zQTmif.SSPGKf > div > div:nth-child(2) > c-wiz > div.cKvRXe > c-wiz > div.PSZ8D.EA71Tc > div.FXkZv > div:nth-child(4) > ul > li:nth-child(1) > div').click()"
   ]
  },
  {
   "cell_type": "code",
   "execution_count": 15,
   "metadata": {},
   "outputs": [],
   "source": [
    "url = driver.current_url"
   ]
  },
  {
   "cell_type": "code",
   "execution_count": 16,
   "metadata": {},
   "outputs": [
    {
     "data": {
      "text/plain": [
       "'https://www.google.com/travel/flights/booking?tfs=CBwQAho_EgoyMDI0LTAxLTAxIh8KA0lDThIKMjAyNC0wMS0wMRoDS0lYKgJNTTIDNzAyagcIARIDSUNOcgcIARIDS0lYGj8SCjIwMjQtMDEtMDciHwoDS0lYEgoyMDI0LTAxLTA3GgNJQ04qAk1NMgM3MDVqBwgBEgNLSVhyBwgBEgNJQ05AAUgBcAGCAQsI____________AZgBAQ&tfu=CmxDalJJVkVWeFRrMHlWemhyZG1kQlRIRlVjMmRDUnkwdExTMHRMUzB0TFhSbmFHUXhOVUZCUVVGQlIxWnBOME5CUkhJemNFZEJFZ1ZOVFRjd05Sb0xDSStrRlJBQUdnTkxVbGM0SEhDKzBBRT0SAggBIgYKATESATA&hl=ko'"
      ]
     },
     "execution_count": 16,
     "metadata": {},
     "output_type": "execute_result"
    }
   ],
   "source": [
    "url"
   ]
  },
  {
   "cell_type": "code",
   "execution_count": 17,
   "metadata": {},
   "outputs": [
    {
     "data": {
      "text/plain": [
       "['오후 12:30\\n – \\n오후 2:35\\n다구간 항공권\\n피치항공\\n2시간 5분\\nKIX–ICN\\n직항\\nCO2 60kg\\n-22% 배출\\n₩348,687\\n왕복\\n나무 1,035그루가 하루에 흡수하는 양만큼 CO2 배출이 방지됩니다.',\n",
       " '오전 11:50\\n – \\n오후 1:50\\n다구간 항공권\\n제주항공\\n2시간\\nKIX–ICN\\n직항\\nCO2 80kg\\n평균 배출량\\n₩384,354\\n왕복',\n",
       " '오후 3:25\\n – \\n오후 5:40\\n다구간 항공권\\n에어부산\\n2시간 15분\\nKIX–ICN\\n직항\\nCO2 76kg\\n평균 배출량\\n₩391,610\\n왕복']"
      ]
     },
     "execution_count": 17,
     "metadata": {},
     "output_type": "execute_result"
    }
   ],
   "source": [
    "ed_opt"
   ]
  },
  {
   "cell_type": "code",
   "execution_count": 18,
   "metadata": {},
   "outputs": [
    {
     "data": {
      "text/plain": [
       "['왕복 총 가격은 최저 348687 대한민국 원입니다. 피치항공의 직항 항공편입니다. 일요일, 1월 7 오후 12:30에 간사이 국제 공항에서 출발하여 일요일, 1월 7 오후 2:35에 인천국제공항에 도착합니다. 총 비행 시간은 2시간 5분입니다.  다구간 항공권. 이 운항 일정의 각 항공권을 따로 구입합니다.. 항공편 선택',\n",
       " '왕복 총 가격은 최저 384354 대한민국 원입니다. 제주항공의 직항 항공편입니다. 일요일, 1월 7 오전 11:50에 간사이 국제 공항에서 출발하여 일요일, 1월 7 오후 1:50에 인천국제공항에 도착합니다. 총 비행 시간은 2시간입니다.  다구간 항공권. 이 운항 일정의 각 항공권을 따로 구입합니다.. 항공편 선택',\n",
       " '왕복 총 가격은 최저 391610 대한민국 원입니다. 에어부산의 직항 항공편입니다. 일요일, 1월 7 오후 3:25에 간사이 국제 공항에서 출발하여 일요일, 1월 7 오후 5:40에 인천국제공항에 도착합니다. 총 비행 시간은 2시간 15분입니다.  다구간 항공권. 이 운항 일정의 각 항공권을 따로 구입합니다.. 항공편 선택']"
      ]
     },
     "execution_count": 18,
     "metadata": {},
     "output_type": "execute_result"
    }
   ],
   "source": [
    "ed_li"
   ]
  },
  {
   "cell_type": "code",
   "execution_count": null,
   "metadata": {},
   "outputs": [],
   "source": []
  }
 ],
 "metadata": {
  "kernelspec": {
   "display_name": "capstone",
   "language": "python",
   "name": "python3"
  },
  "language_info": {
   "codemirror_mode": {
    "name": "ipython",
    "version": 3
   },
   "file_extension": ".py",
   "mimetype": "text/x-python",
   "name": "python",
   "nbconvert_exporter": "python",
   "pygments_lexer": "ipython3",
   "version": "3.11.5"
  }
 },
 "nbformat": 4,
 "nbformat_minor": 2
}
