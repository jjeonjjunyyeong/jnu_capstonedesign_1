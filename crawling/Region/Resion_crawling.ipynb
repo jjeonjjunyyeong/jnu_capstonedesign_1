{
 "cells": [
  {
   "cell_type": "code",
   "execution_count": null,
   "metadata": {},
   "outputs": [],
   "source": [
    "from selenium import webdriver\n",
    "from selenium.webdriver.common.keys import Keys\n",
    "from selenium.webdriver.common.by import By\n",
    "\n",
    "import re\n",
    "import time\n",
    "import pandas as pd\n"
   ]
  },
  {
   "cell_type": "code",
   "execution_count": null,
   "metadata": {},
   "outputs": [],
   "source": [
    "def page_down(driver):\n",
    "    for _ in range(10):\n",
    "        body = driver.find_element(By.CSS_SELECTOR, '#QA0Szd > div > div > div.w6VYqd > div:nth-child(2) > div > div.e07Vkf.kA9KIf > div > div > div.m6QErb.DxyBCb.kA9KIf.dS8AEf.ecceSd > div.m6QErb.DxyBCb.kA9KIf.dS8AEf.ecceSd')\n",
    "        body.send_keys(Keys.PAGE_DOWN)\n",
    "        body.send_keys(Keys.PAGE_DOWN)\n",
    "        body.send_keys(Keys.PAGE_DOWN)\n",
    "        time.sleep(2)\n",
    "\n",
    "def separate_to_grade(places, location):\n",
    "        return places\n",
    "\n",
    "def url_parse(url):\n",
    "    parse = re.search(r'@([-+]?\\d*\\.\\d+|\\d+),([-+]?\\d*\\.\\d+|\\d+)', url)\n",
    "    # parse = re.search(r'!3d([\\d.]+)!4d([\\d.]+)', url)   \n",
    "    if parse:\n",
    "        lat = float(parse.group(1))\n",
    "        lon = float(parse.group(2))\n",
    "        return lat, lon\n",
    "    else:\n",
    "        return None\n"
   ]
  },
  {
   "cell_type": "code",
   "execution_count": null,
   "metadata": {},
   "outputs": [],
   "source": [
    "driver = webdriver.Chrome()\n",
    "# parse = re.search(r'!3d([\\d.]+)!4d([\\d.]+)', url)\n",
    "# 1. 구글 지도 접속\n",
    "driver.get('https://www.google.com/maps/?entry=ttu')\n",
    "time.sleep(2)\n",
    "\n",
    "driver.find_element(By.CSS_SELECTOR, \"input#searchboxinput\").send_keys('오사카 명소') # 일본 지역 크롤링 후 format으로 바꿔서 사용\n",
    "driver.find_element(By.CSS_SELECTOR, \"button#searchbox-searchbutton\").click()\n",
    "time.sleep(2)\n",
    "\n",
    "page_down(driver)\n"
   ]
  },
  {
   "cell_type": "code",
   "execution_count": null,
   "metadata": {},
   "outputs": [],
   "source": [
    "places = []\n",
    "dataset = [0, 1, 2]\n",
    "location = []\n",
    "url_lst = []\n",
    "count = 1\n",
    "append_count = 0\n",
    "url = ''"
   ]
  },
  {
   "cell_type": "code",
   "execution_count": null,
   "metadata": {},
   "outputs": [],
   "source": [
    "while True:\n",
    "    print(count)\n",
    "    places_value = driver.find_element(By.CSS_SELECTOR, '#QA0Szd > div > div > div.w6VYqd > div.bJzME.tTVLSc > div > div.e07Vkf.kA9KIf > div > div > div.m6QErb.DxyBCb.kA9KIf.dS8AEf.ecceSd > div.m6QErb.DxyBCb.kA9KIf.dS8AEf.ecceSd > div:nth-child({})'.format(count))\n",
    "    if places_value.text == '마지막 항목입니다.':\n",
    "        break\n",
    "\n",
    "    # 예외 처리를 사용한 이유 : \n",
    "    # 각 div 태그의 순서가 달라 nth-child()를 사용할 수 없음\n",
    "    # 이후 조금 더 효율적인 방법을 찾아야함\n",
    "    try:\n",
    "        driver.find_element(By.CSS_SELECTOR, '#QA0Szd > div > div > div.w6VYqd > div.bJzME.tTVLSc > div > div.e07Vkf.kA9KIf > div > div > div.m6QErb.DxyBCb.kA9KIf.dS8AEf.ecceSd > div.m6QErb.DxyBCb.kA9KIf.dS8AEf.ecceSd > div:nth-child({}) > div > a'.format(count)).click()\n",
    "        time.sleep(4)\n",
    "\n",
    "        location.append(driver.find_element(By.CSS_SELECTOR, '#QA0Szd > div > div > div.w6VYqd > div.bJzME.Hu9e2e.tTVLSc > div > div.e07Vkf.kA9KIf > div > div > div.m6QErb.DxyBCb.kA9KIf.dS8AEf > div:nth-child(11) > div:nth-child(3) > button > div > div.rogA2c > div.Io6YTe.fontBodyMedium.kR99db').text)\n",
    "        driver.find_element(By.CSS_SELECTOR, '#QA0Szd > div > div > div.w6VYqd > div.bJzME.Hu9e2e.tTVLSc > div > div.e07Vkf.kA9KIf > div > div > div.BHymgf.eiJcBe.bJUD0c > div > div > div:nth-child(3) > span > button').click()\n",
    "        time.sleep(2)\n",
    "    except:\n",
    "        location.append('None')\n",
    "        \n",
    "    places_value = places_value.text.split('\\n')\n",
    "    print(places_value)\n",
    "    places.append([])\n",
    "    for i in dataset:\n",
    "        places[append_count].append(places_value[i])\n",
    "    append_count += 1\n",
    "    count += 2\n"
   ]
  },
  {
   "cell_type": "code",
   "execution_count": null,
   "metadata": {},
   "outputs": [],
   "source": [
    "for i in range(len(places)):\n",
    "        places[i][1] = places[i][1].replace('(', ', ').replace(')', '') # 추가\n",
    "        places[i].append(location[i])"
   ]
  },
  {
   "cell_type": "code",
   "execution_count": null,
   "metadata": {},
   "outputs": [],
   "source": [
    "places"
   ]
  },
  {
   "cell_type": "code",
   "execution_count": null,
   "metadata": {},
   "outputs": [],
   "source": [
    "df = pd.DataFrame(places, columns=['name', 'score', 'category', 'location', 'lat', 'lon'])\n",
    "df"
   ]
  },
  {
   "cell_type": "code",
   "execution_count": null,
   "metadata": {},
   "outputs": [],
   "source": [
    "df.to_csv('osaka_places.csv', index=False)"
   ]
  },
  {
   "cell_type": "code",
   "execution_count": null,
   "metadata": {},
   "outputs": [],
   "source": [
    "driver.quit()\n"
   ]
  },
  {
   "cell_type": "code",
   "execution_count": null,
   "metadata": {},
   "outputs": [],
   "source": []
  }
 ],
 "metadata": {
  "kernelspec": {
   "display_name": "capstone",
   "language": "python",
   "name": "python3"
  },
  "language_info": {
   "codemirror_mode": {
    "name": "ipython",
    "version": 3
   },
   "file_extension": ".py",
   "mimetype": "text/x-python",
   "name": "python",
   "nbconvert_exporter": "python",
   "pygments_lexer": "ipython3",
   "version": "3.11.5"
  }
 },
 "nbformat": 4,
 "nbformat_minor": 2
}
