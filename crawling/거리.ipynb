{
 "cells": [
  {
   "cell_type": "code",
   "execution_count": 1,
   "metadata": {},
   "outputs": [],
   "source": [
    "from selenium import webdriver\n",
    "from selenium.webdriver.common.keys import Keys\n",
    "from selenium.webdriver.chrome.service import Service\n",
    "from webdriver_manager.chrome import ChromeDriverManager\n",
    "from selenium.webdriver.common.by import By\n",
    "from selenium.webdriver import ActionChains\n",
    "import pandas as pd\n",
    "import time\n",
    "import numpy as np\n"
   ]
  },
  {
   "cell_type": "code",
   "execution_count": 7,
   "metadata": {},
   "outputs": [
    {
     "name": "stdout",
     "output_type": "stream",
     "text": [
      "['14.2 km']\n"
     ]
    }
   ],
   "source": [
    "driver = webdriver.Chrome()\n",
    "\n",
    "chrome_options = webdriver.ChromeOptions()\n",
    "\n",
    "# 브라우저 꺼짐 방지 옵션\n",
    "chrome_options.add_experimental_option(\"detach\", True)\n",
    "driver = webdriver.Chrome(\n",
    "    service=Service(ChromeDriverManager().install()), options=chrome_options\n",
    ")\n",
    "driver.get(\n",
    "    \"https://www.google.co.kr/maps/?hl=ko\"\n",
    ")\n",
    "\n",
    "search_box = driver.find_element(\n",
    "    By.XPATH, '//*[@id=\"searchboxinput\"]'\n",
    ")\n",
    "search_box.click()\n",
    "time.sleep(2)\n",
    "\n",
    "start_position = \"오사카 성\"\n",
    "end_position = \"유니버설 스튜디오 재팬\"\n",
    "\n",
    "\n",
    "search_box.send_keys(start_position)\n",
    "time.sleep(2)\n",
    "driver.find_element(By.XPATH, '//*[@id=\"searchbox-searchbutton\"]').click()\n",
    "time.sleep(2)\n",
    "driver.find_element(By.XPATH, '//*[@id=\"QA0Szd\"]/div/div/div[1]/div[2]/div/div[1]/div/div/div[1]/div[1]/div[3]/div/a').click()\n",
    "time.sleep(2)\n",
    "name = driver.find_element(By.XPATH, '//*[@id=\"QA0Szd\"]/div/div/div[1]/div[3]/div/div[1]/div/div/div[2]/div[4]/div[1]/button')\n",
    "name.click()\n",
    "time.sleep(2)\n",
    "name = driver.find_element(By.XPATH, '//*[@id=\"sb_ifc50\"]/input')\n",
    "name.send_keys(end_position)\n",
    "name.send_keys(Keys.RETURN)\n",
    "time.sleep(2)\n",
    "a = driver.find_element(By.XPATH, '//*[@id=\"section-directions-trip-0\"]/div[1]/div/div[1]/div[2]/div')\n",
    "distance = []\n",
    "distance.append(a.text)\n",
    "\n",
    "\n"
   ]
  },
  {
   "cell_type": "code",
   "execution_count": 8,
   "metadata": {},
   "outputs": [],
   "source": [
    "data = {\"출발 위치\": start_position, \"도착 위치\": end_position,\"거리\": distance}\n",
    "df = pd.DataFrame(data)\n",
    "df.to_csv(\"거리.csv\", index=False, encoding=\"utf-8-sig\")"
   ]
  }
 ],
 "metadata": {
  "kernelspec": {
   "display_name": "kernel",
   "language": "python",
   "name": "kernel"
  },
  "language_info": {
   "codemirror_mode": {
    "name": "ipython",
    "version": 3
   },
   "file_extension": ".py",
   "mimetype": "text/x-python",
   "name": "python",
   "nbconvert_exporter": "python",
   "pygments_lexer": "ipython3",
   "version": "3.11.5"
  }
 },
 "nbformat": 4,
 "nbformat_minor": 2
}
