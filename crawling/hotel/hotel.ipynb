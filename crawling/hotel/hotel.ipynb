{
 "cells": [
  {
   "cell_type": "code",
   "execution_count": 2,
   "metadata": {},
   "outputs": [],
   "source": [
    "from selenium import webdriver\n",
    "from selenium.webdriver.common.keys import Keys\n",
    "from selenium.webdriver.common.by import By\n",
    "import time"
   ]
  },
  {
   "cell_type": "code",
   "execution_count": 20,
   "metadata": {},
   "outputs": [],
   "source": [
    "driver = webdriver.Chrome()\n",
    "driver.get(\"https://www.google.co.kr/travel/search?qs=OAA&hl=ko&gl=kr&gsas=1&ved=0CAAQ5JsGahcKEwiYn8GbieGCAxUAAAAAHQAAAAAQBg\")\n",
    "time.sleep(3)\n",
    "\n"
   ]
  },
  {
   "cell_type": "code",
   "execution_count": 21,
   "metadata": {},
   "outputs": [],
   "source": [
    "# 입력칸 빈칸 만들기\n",
    "try:\n",
    "    driver.find_element(By.CSS_SELECTOR, '#yDmH0d > c-wiz.zQTmif.SSPGKf.AglWE > div > c-wiz > div.dTQsx.gBIxsf > div.MawWP > div.wMMMNd > c-wiz > div > div > div.E4DaWc.AJr5uf > div > div.tbDMNe > div.TttDS > div > div > div > div > div.cQnuXe.k0gFV > div > div > div.SS0SXe > button').click()\n",
    "except Exception as e:\n",
    "    pass\n",
    "time.sleep(1)\n",
    "# 검색창에 검색어 입력\n",
    "a = driver.find_element(By.XPATH, '/html/body/c-wiz[2]/div/c-wiz/div[1]/div[1]/div[1]/c-wiz/div/div/div[1]/div/div[1]/div[1]/div/div/div/div/div[2]/div[2]/div/div[2]/input')\n",
    "a.send_keys('오사카 성')\n",
    "a.send_keys(Keys.ENTER)\n",
    "time.sleep(2)"
   ]
  },
  {
   "cell_type": "code",
   "execution_count": 25,
   "metadata": {},
   "outputs": [],
   "source": [
    "# 날짜 입력\n",
    "st = driver.find_element(By.CSS_SELECTOR, '#yDmH0d > c-wiz.zQTmif.SSPGKf.AglWE > div > c-wiz > div.dTQsx.gBIxsf > div.MawWP > div.wMMMNd > c-wiz > div > div > div.E4DaWc.AJr5uf > div > div.tbDMNe > div.khj5De.Yxswxc > div > div > div.Ryi7tc.hh3Grb > div.oSuIZ.YICvqf.i9kmrf.cd29Sd > div > input')\n",
    "st.send_keys(Keys.CONTROL + \"a\")\n",
    "st.send_keys(Keys.DELETE)\n",
    "st.send_keys('2024-01-01')\n",
    "st.send_keys(Keys.ENTER)\n",
    "time.sleep(1)\n",
    "\n",
    "ed = driver.find_element(By.CSS_SELECTOR, '#yDmH0d > c-wiz.zQTmif.SSPGKf.AglWE > div > c-wiz > div.dTQsx.gBIxsf > div.MawWP > div.wMMMNd > c-wiz > div > div > div.E4DaWc.AJr5uf > div > div.tbDMNe > div.khj5De.Yxswxc > div > div > div.Ryi7tc.hh3Grb > div:nth-child(2) > div > input')\n",
    "ed.send_keys(Keys.CONTROL + \"a\")\n",
    "ed.send_keys(Keys.DELETE)\n",
    "ed.send_keys('2024-01-15')\n",
    "ed.send_keys(Keys.ENTER)\n",
    "time.sleep(1)"
   ]
  },
  {
   "cell_type": "code",
   "execution_count": 27,
   "metadata": {},
   "outputs": [],
   "source": [
    "driver.find_element(By.CSS_SELECTOR, '#yDmH0d > c-wiz.zQTmif.SSPGKf.AglWE > div > c-wiz > div.dTQsx.gBIxsf > div.MawWP > div.wMMMNd > c-wiz > div > div > div.E4DaWc.AJr5uf > div > div.tbDMNe > div.YFfNHd > div > div').click()\n",
    "time.sleep(1)\n",
    "\n",
    "num = 5\n",
    "if num == 1:\n",
    "    driver.find_element(By.CSS_SELECTOR, '#ow647 > div.ZGEB9c.yRXJAe.qLfQf.iWO5td > div:nth-child(3) > div > div:nth-child(1) > div:nth-child(1) > div.P634r.ZP29Te > div > span:nth-child(1) > button').click()\n",
    "    driver.find_element(By.CSS_SELECTOR, '#ow647 > div.ZGEB9c.yRXJAe.qLfQf.iWO5td > div:nth-child(3) > div > div.moeCJc > div:nth-child(2) > button').click()\n",
    "elif num == 2 :\n",
    "    pass\n",
    "else:\n",
    "    for i in range(num - 2):\n",
    "        driver.find_element(By.CSS_SELECTOR, '#ow647 > div.ZGEB9c.yRXJAe.qLfQf.iWO5td > div:nth-child(3) > div > div:nth-child(1) > div:nth-child(1) > div.P634r.ZP29Te > div > span:nth-child(3) > button').click()\n",
    "        driver.find_element(By.CSS_SELECTOR, '#ow647 > div.ZGEB9c.yRXJAe.qLfQf.iWO5td > div:nth-child(3) > div > div.moeCJc > div:nth-child(2) > button').click()\n"
   ]
  },
  {
   "cell_type": "code",
   "execution_count": null,
   "metadata": {},
   "outputs": [],
   "source": []
  }
 ],
 "metadata": {
  "kernelspec": {
   "display_name": "capstone",
   "language": "python",
   "name": "python3"
  },
  "language_info": {
   "codemirror_mode": {
    "name": "ipython",
    "version": 3
   },
   "file_extension": ".py",
   "mimetype": "text/x-python",
   "name": "python",
   "nbconvert_exporter": "python",
   "pygments_lexer": "ipython3",
   "version": "3.11.5"
  }
 },
 "nbformat": 4,
 "nbformat_minor": 2
}
