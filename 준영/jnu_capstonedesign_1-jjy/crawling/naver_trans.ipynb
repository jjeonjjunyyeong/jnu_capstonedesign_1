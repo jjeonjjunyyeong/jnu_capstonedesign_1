{
 "cells": [
  {
   "cell_type": "code",
   "execution_count": 1,
   "metadata": {},
   "outputs": [],
   "source": [
    "from selenium import webdriver\n",
    "from selenium.webdriver.common.keys import Keys\n",
    "from selenium.webdriver.common.by import By\n",
    "import time\n",
    "import pandas as pd\n",
    "import numpy as np\n"
   ]
  },
  {
   "cell_type": "code",
   "execution_count": 6,
   "metadata": {},
   "outputs": [],
   "source": [
    "driver = webdriver.Chrome()\n",
    "\n",
    "driver.get(\"https://m-flight.naver.com/\")\n",
    "\n",
    "driver.find_element(By.XPATH ,\"//*[@class='tabContent_route__1GI8F select_City__2NOOZ start']\").click()\n",
    "search_box = driver.find_element(By.CSS_SELECTOR, 'input.autocomplete_input__1vVkF')\n",
    "search_box.click()\n",
    "search_box.send_keys(\"인천국제공항\")\n",
    "time.sleep(1)\n",
    "\n",
    "driver.find_element(By.CSS_SELECTOR, 'a.autocomplete_search_item__2WRSw').click()\n",
    "driver.find_element(By.XPATH ,\"//*[@class='tabContent_route__1GI8F select_City__2NOOZ end']\").click()\n",
    "search_box = driver.find_element(By.CSS_SELECTOR, 'input.autocomplete_input__1vVkF')\n",
    "search_box.click()\n",
    "search_box.send_keys(\"간사이 국제 공항\")\n",
    "time.sleep(1)\n",
    "\n",
    "driver.find_element(By.CSS_SELECTOR, 'a.autocomplete_search_item__2WRSw').click()\n",
    "driver.find_element(By.CSS_SELECTOR, 'button.tabContent_option__2y4c6.select_Date__1aF7Y').click()\n",
    "time.sleep(1)\n",
    "\n",
    "driver.find_element(By.XPATH, '/html/body/div/div/div/div[10]/div[2]/div/div[2]/div/div[3]/table/tbody/tr[4]/td[4]/button').click()\n",
    "driver.find_element(By.XPATH, '/html/body/div/div/div/div[10]/div[2]/div/div[2]/div/div[3]/table/tbody/tr[5]/td[4]/button').click()\n",
    "time.sleep(1)\n",
    "\n",
    "driver.find_element(By.CSS_SELECTOR, 'button.searchBox_search__2KFn3').click()\n",
    "time.sleep(30)\n",
    "\n",
    "select_option = driver.find_elements(By.CSS_SELECTOR, 'button.header_current__3asvR')\n",
    "select_option[2].click()\n",
    "time.sleep(1)\n",
    "\n",
    "select_benefit = driver.find_elements(By.CSS_SELECTOR, 'button.header_option__2G14z')\n",
    "select_benefit[1].click()\n",
    "time.sleep(1)"
   ]
  },
  {
   "cell_type": "code",
   "execution_count": 7,
   "metadata": {},
   "outputs": [],
   "source": [
    "flight_list = driver.find_elements(By.CSS_SELECTOR, 'div.concurrent_ConcurrentItemContainer__2lQVG.result')"
   ]
  },
  {
   "cell_type": "code",
   "execution_count": 16,
   "metadata": {},
   "outputs": [
    {
     "data": {
      "text/plain": [
       "['에어부산',\n",
       " '15:35ICN',\n",
       " '17:30KIX',\n",
       " '직항, 01시간 55분',\n",
       " '15:25KIX',\n",
       " '17:40ICN',\n",
       " '직항, 02시간 15분',\n",
       " '성인/모든 결제수단',\n",
       " '왕복 353,700원~']"
      ]
     },
     "execution_count": 16,
     "metadata": {},
     "output_type": "execute_result"
    }
   ],
   "source": [
    "flight_list[0]"
   ]
  },
  {
   "cell_type": "code",
   "execution_count": 10,
   "metadata": {},
   "outputs": [],
   "source": [
    "for i in range(len(flight_list)):\n",
    "    flight_list[i] = flight_list[i].text.split('\\n')"
   ]
  },
  {
   "cell_type": "code",
   "execution_count": 15,
   "metadata": {},
   "outputs": [
    {
     "data": {
      "text/plain": [
       "9"
      ]
     },
     "execution_count": 15,
     "metadata": {},
     "output_type": "execute_result"
    }
   ],
   "source": [
    "len(flight_list[0])"
   ]
  },
  {
   "cell_type": "code",
   "execution_count": 17,
   "metadata": {},
   "outputs": [],
   "source": [
    "col_label = ['항공사', '첫날 출발 시간 및 출발 공항 약자', '첫날 도착 시간 및 도착 공항 약자', '운행 방식(직항, 왕복 등 ) 및 운행 시간', '마지막날 출발 시간 및 출발 공항 약자', '마지막날 도착 시간 및 도착 공항 약자', '운행 방식 및 운행 시간', '구분', '최소 금액 ']\n",
    "df = pd.DataFrame(flight_list)"
   ]
  },
  {
   "cell_type": "code",
   "execution_count": 19,
   "metadata": {},
   "outputs": [],
   "source": [
    "df.to_csv(\"transportation.csv\", index=False, encoding=\"utf-8-sig\")"
   ]
  },
  {
   "cell_type": "code",
   "execution_count": null,
   "metadata": {},
   "outputs": [],
   "source": [
    "driver.quit()"
   ]
  }
 ],
 "metadata": {
  "kernelspec": {
   "display_name": "capstone",
   "language": "python",
   "name": "capstone"
  },
  "language_info": {
   "codemirror_mode": {
    "name": "ipython",
    "version": 3
   },
   "file_extension": ".py",
   "mimetype": "text/x-python",
   "name": "python",
   "nbconvert_exporter": "python",
   "pygments_lexer": "ipython3",
   "version": "3.11.5"
  }
 },
 "nbformat": 4,
 "nbformat_minor": 2
}
