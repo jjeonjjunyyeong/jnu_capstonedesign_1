{
 "cells": [
  {
   "cell_type": "code",
   "execution_count": 25,
   "metadata": {},
   "outputs": [],
   "source": [
    "import numpy as np\n",
    "import csv"
   ]
  },
  {
   "cell_type": "code",
   "execution_count": 26,
   "metadata": {},
   "outputs": [],
   "source": [
    "def read_csv_file(file_path):\n",
    "    data = []\n",
    "    with open(file_path, newline='', encoding='utf-8') as csvfile:\n",
    "        csv_reader = csv.reader(csvfile)\n",
    "        for row in csv_reader:\n",
    "            data.append(row)\n",
    "    return data\n",
    "\n",
    "# 파일 경로 설정 (본인의 파일 경로로 수정해주세요)\n",
    "file_path_utf8 = '오사카 숙소.csv'\n",
    "\n",
    "# CSV 파일 읽기 (utf-8로 인코딩된 파일)\n",
    "csv_data_utf8 = read_csv_file(file_path_utf8)\n",
    "\n",
    "#장소 리스트\n",
    "position_lst = []\n",
    "\n",
    "#제일 좋은 숙소 추출\n",
    "position_lst.append(csv_data_utf8[1][0])"
   ]
  },
  {
   "cell_type": "code",
   "execution_count": 27,
   "metadata": {},
   "outputs": [
    {
     "name": "stdout",
     "output_type": "stream",
     "text": [
      "유니버설 스튜디오 재팬\n"
     ]
    }
   ],
   "source": [
    "position_utf8 = './정균/jnu_capstonedesign_1--/장소.csv'\n",
    "position_data_utf8 = read_csv_file(position_utf8)\n",
    "print(position_data_utf8[2][0])\n",
    "for i in range(1, 6):\n",
    "  position_lst.append(position_data_utf8[i][0])"
   ]
  },
  {
   "cell_type": "code",
   "execution_count": 28,
   "metadata": {},
   "outputs": [
    {
     "name": "stdout",
     "output_type": "stream",
     "text": [
      "['칸데오 호텔 오사카 난바 (Candeo Hotels Osaka Namba)', '오사카 성 천수각', '유니버설 스튜디오 재팬', '태양의 탑', '아키바 카트 오사카', '덴포잔 관람차']\n"
     ]
    }
   ],
   "source": [
    "print(position_lst)"
   ]
  }
 ],
 "metadata": {
  "kernelspec": {
   "display_name": "kernel",
   "language": "python",
   "name": "kernel"
  },
  "language_info": {
   "codemirror_mode": {
    "name": "ipython",
    "version": 3
   },
   "file_extension": ".py",
   "mimetype": "text/x-python",
   "name": "python",
   "nbconvert_exporter": "python",
   "pygments_lexer": "ipython3",
   "version": "3.11.5"
  }
 },
 "nbformat": 4,
 "nbformat_minor": 2
}
