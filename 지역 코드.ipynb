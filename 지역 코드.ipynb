from selenium import webdriver
from selenium.webdriver.common.by import By
from selenium.webdriver.common.keys import Keys  # Keys 모듈 추가
import time
import pandas as pd
# 크롬 드라이버 실행
driver = webdriver.Chrome()

# 원하는 URL로 접속
url = 'https://www.google.co.kr/maps/?entry=ttu'
driver.get(url)

# 검색어 입력
search_box = driver.find_element(By.NAME, 'q')
search_box.send_keys('오사카 명소')
search_box.send_keys(Keys.RETURN)

time.sleep(10)

time.sleep(2)
a1 = driver.find_element(By.CLASS_NAME, 'drGLxe')
time.sleep(5)
a1.click()

a2 = driver.find_element(By.XPATH, '//*[@id="action-menu"]/div[7]')
time.sleep(5)
a2.click()

max_try = 5

for _ in range(max_try):
    element_to_scroll_to = driver.find_element(By.XPATH, '//*[@id="QA0Szd"]/div/div/div[1]/div[2]/div/div[1]/div/div/div[1]/div[1]')
    element_to_scroll_to.send_keys(Keys.PAGE_DOWN)
    element_to_scroll_to.send_keys(Keys.PAGE_DOWN)
    element_to_scroll_to.send_keys(Keys.PAGE_DOWN)
    time.sleep(1)
    
#for _ in range(max_try):
#    element_to_scroll_to = driver.find_element(By.XPATH, '//*[@id="QA0Szd"]/div/div/div[1]/div[2]/div/div[1]/div/div/div[1]/div[1]')
#    element_to_scroll_to.send_keys(Keys.PAGE_UP)
#    element_to_scroll_to.send_keys(Keys.PAGE_UP)
#    element_to_scroll_to.send_keys(Keys.PAGE_UP)
#    time.sleep(1)


# 특정 클래스 이름을 가진 요소들 찾기
class_name = "hfpxzc"
elements_with_class = driver.find_elements(By.CLASS_NAME, class_name)

# 각 요소의 aria-label 값을 가져와 리스트에 저장
aria_labels = []

for element in elements_with_class:
    aria_label = element.get_attribute("aria-label")
    if aria_label:
        aria_labels.append(aria_label)

# 출력
for label in aria_labels:
    print("aria-label 속성의 값:", label)
    
df = pd.DataFrame(aria_labels)
df.head()
df.to_csv('wldur.csv')