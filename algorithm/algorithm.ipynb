{
 "cells": [
  {
   "cell_type": "code",
   "execution_count": 1,
   "metadata": {},
   "outputs": [],
   "source": [
    "import numpy as np\n",
    "from random import *\n",
    "from itertools import *\n",
    "\n",
    "# 가고자 하는 장소의 개수를 입력 받음\n",
    "routes = int(input(\"Enter the number of routes : \"))\n",
    "# 사실상 필요 없을 듯\n",
    "airports = np.zeros(routes, dtype=float)\n",
    "# 각 node 간 거리를 담을 배열 선언\n",
    "dist = np.zeros((routes, routes), dtype=float)\n",
    "# n개의 node의 이름을 담을 배열 선언\n",
    "cases = []"
   ]
  },
  {
   "cell_type": "code",
   "execution_count": 2,
   "metadata": {},
   "outputs": [],
   "source": [
    "# 거리 행렬에 Random float 값 넣기\n",
    "for i in range(routes):\n",
    "    cases.append(i)\n",
    "    for j in range(routes):\n",
    "        # 같은 장소이면 거리 0\n",
    "        if i != j:\n",
    "            # 방향이 없는 경우 두 장소의 거리는 같다고 가정\n",
    "            if i <= j:\n",
    "                dist[i][j] = uniform(1, 30)\n",
    "                dist[j][i] = dist[i][j]\n",
    "\n",
    "for i in range(len(airports)):\n",
    "    airports[i] = uniform(1, 30)\n",
    "\n",
    "num_of_cases = list(permutations(cases))\n"
   ]
  },
  {
   "cell_type": "code",
   "execution_count": 3,
   "metadata": {},
   "outputs": [],
   "source": [
    "# 모든 경우의 수 중 최단 거리를 담을 리스트 선언\n",
    "shortest_route = np.array([], dtype=float)\n",
    "# for i in range(routes):\n",
    "#     minimum = 100\n",
    "#     for j in range(routes):\n",
    "#         if dist[i][j] != 0:\n",
    "#             if minimum > dist[i][j]:\n",
    "#                 keys = i + 1\n",
    "#                 values = j + 1\n",
    "#                 if values not in shortest_route.keys():\n",
    "#                     minimum = dist[i][j]\n",
    "#                     shortest_route[keys] = values"
   ]
  },
  {
   "cell_type": "code",
   "execution_count": 4,
   "metadata": {},
   "outputs": [],
   "source": [
    "# 방향이 없는 경우 두 장소의 거리가 같다고 가정하였을 때 중복 되는 경로 발생\n",
    "# 중복되는 경로 제거\n",
    "def remove_duplicates(lst):\n",
    "    result = []\n",
    "    for item in lst:\n",
    "        if item[0] < item[-1]:\n",
    "            result.append(item)\n",
    "    return result"
   ]
  },
  {
   "cell_type": "code",
   "execution_count": 5,
   "metadata": {},
   "outputs": [],
   "source": [
    "num_of_cases = remove_duplicates(num_of_cases)"
   ]
  },
  {
   "cell_type": "code",
   "execution_count": 6,
   "metadata": {},
   "outputs": [],
   "source": [
    "# 최단 거리 계산\n",
    "# 공항을 갈거면 flag = 1, 갈 필요 없으면 flag = 0\n",
    "flag = 0\n",
    "# 공항에 가지 않은 경우\n",
    "if flag == 0:\n",
    "    for i in num_of_cases:\n",
    "        rep = len(i) - 1\n",
    "        cnt = 0.0\n",
    "        for j in range(rep):\n",
    "            cnt += dist[i[j]][i[j + 1]]\n",
    "        shortest_route = np.append(shortest_route, cnt)\n",
    "# 공항에 가는 경우\n",
    "else:\n",
    "    for i in num_of_cases:\n",
    "        rep = len(i) - 1\n",
    "        cnt = 0.0\n",
    "        for j in range(rep):\n",
    "            cnt += dist[i[j]][i[j + 1]]\n",
    "            if j == rep - 1:\n",
    "                cnt += airports[i[j + 1]]\n",
    "        shortest_route = np.append(shortest_route, cnt)"
   ]
  },
  {
   "cell_type": "code",
   "execution_count": 7,
   "metadata": {},
   "outputs": [],
   "source": [
    "# 가장 짧은 거리의 인덱스를 구함\n",
    "min_index = np.argmin(shortest_route)"
   ]
  },
  {
   "cell_type": "code",
   "execution_count": 8,
   "metadata": {},
   "outputs": [
    {
     "name": "stdout",
     "output_type": "stream",
     "text": [
      "최솟값의 인덱스: 26\n",
      "최단 경로 : (1, 0, 3, 2, 4)\n",
      "최단 경로의 거리 : 24.104589468090488 km\n"
     ]
    }
   ],
   "source": [
    "print(\"최솟값의 인덱스:\", min_index)\n",
    "print(\"최단 경로 :\", num_of_cases[min_index])\n",
    "print(\"최단 경로의 거리 :\", shortest_route[min_index],\"km\")"
   ]
  },
  {
   "cell_type": "code",
   "execution_count": null,
   "metadata": {},
   "outputs": [],
   "source": []
  }
 ],
 "metadata": {
  "kernelspec": {
   "display_name": "nnd",
   "language": "python",
   "name": "python3"
  },
  "language_info": {
   "codemirror_mode": {
    "name": "ipython",
    "version": 3
   },
   "file_extension": ".py",
   "mimetype": "text/x-python",
   "name": "python",
   "nbconvert_exporter": "python",
   "pygments_lexer": "ipython3",
   "version": "3.11.5"
  }
 },
 "nbformat": 4,
 "nbformat_minor": 2
}
