{
 "cells": [
  {
   "cell_type": "code",
   "execution_count": 41,
   "metadata": {},
   "outputs": [
    {
     "name": "stdout",
     "output_type": "stream",
     "text": [
      "[['21', 'Ju'], ['21', 'Do'], ['20', 'Su']]\n"
     ]
    }
   ],
   "source": [
    "N = int(input())\n",
    "\n",
    "lst = []\n",
    " \n",
    "for i in range(N): \n",
    "    temp =[]   \n",
    "    x, y = input().split()\n",
    "    temp.append(x)\n",
    "    temp.append(y)\n",
    "    \n",
    "    lst.append(temp)\n",
    "lst.sort(key=lambda x:x[0])\n",
    "\n",
    "    "
   ]
  },
  {
   "cell_type": "code",
   "execution_count": null,
   "metadata": {},
   "outputs": [],
   "source": [
    "for i in range(len(lst)):\n",
    "    print(lst[i])"
   ]
  }
 ],
 "metadata": {
  "kernelspec": {
   "display_name": "kernel",
   "language": "python",
   "name": "kernel"
  },
  "language_info": {
   "codemirror_mode": {
    "name": "ipython",
    "version": 3
   },
   "file_extension": ".py",
   "mimetype": "text/x-python",
   "name": "python",
   "nbconvert_exporter": "python",
   "pygments_lexer": "ipython3",
   "version": "3.11.5"
  }
 },
 "nbformat": 4,
 "nbformat_minor": 2
}
